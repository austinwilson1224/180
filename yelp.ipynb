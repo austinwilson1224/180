{
 "cells": [
  {
   "cell_type": "code",
   "execution_count": 1,
   "metadata": {},
   "outputs": [],
   "source": [
    "import numpy as np\n",
    "import pandas as pd \n",
    "import os\n",
    "import matplotlib.pyplot as plt\n",
    "import sklearn.feature_extraction.text as sk_text\n",
    "import json\n",
    "import csv\n",
    "import tensorflow as tf\n",
    "from tensorflow.keras.models import Sequential\n",
    "from tensorflow.keras.layers import Dense, Activation\n",
    "import io \n",
    "from sklearn import metrics\n",
    "from sklearn.model_selection import train_test_split\n",
    "from tensorflow.keras.callbacks import EarlyStopping\n",
    "from tensorflow.keras.callbacks import ModelCheckpoint\n",
    "\n",
    "import matplotlib.pyplot as plt\n",
    "\n",
    "%matplotlib inline"
   ]
  },
  {
   "cell_type": "code",
   "execution_count": 3,
   "metadata": {},
   "outputs": [],
   "source": [
    "outfile = open('review_stars.tsv','w')\n",
    "sfile = csv.writer(outfile, delimiter='\\t', quoting = csv.QUOTE_MINIMAL)\n",
    "sfile.writerow(['business_id','stars','text'])\n",
    "\n",
    "with open('review.json', encoding='utf-8') as f:\n",
    "    for line in f:\n",
    "        row = json.loads(line)\n",
    "        # some special char must be encoded in utf-8\n",
    "        sfile.writerow([row['business_id'], row['stars'], (row['text']).encode('utf-8')])\n",
    "outfile.close()\n",
    "df = pd.read_csv('review_stars.tsv', delimiter='\\t', encoding='utf-8')"
   ]
  },
  {
   "cell_type": "code",
   "execution_count": 3,
   "metadata": {},
   "outputs": [],
   "source": [
    "df = pd.read_csv('review_stars.tsv', delimiter='\\t', encoding='utf-8')"
   ]
  },
  {
   "cell_type": "code",
   "execution_count": 23,
   "metadata": {},
   "outputs": [
    {
     "data": {
      "text/html": [
       "<div>\n",
       "<style scoped>\n",
       "    .dataframe tbody tr th:only-of-type {\n",
       "        vertical-align: middle;\n",
       "    }\n",
       "\n",
       "    .dataframe tbody tr th {\n",
       "        vertical-align: top;\n",
       "    }\n",
       "\n",
       "    .dataframe thead th {\n",
       "        text-align: right;\n",
       "    }\n",
       "</style>\n",
       "<table border=\"1\" class=\"dataframe\">\n",
       "  <thead>\n",
       "    <tr style=\"text-align: right;\">\n",
       "      <th></th>\n",
       "      <th>business_id</th>\n",
       "      <th>stars</th>\n",
       "      <th>text</th>\n",
       "    </tr>\n",
       "  </thead>\n",
       "  <tbody>\n",
       "    <tr>\n",
       "      <td>0</td>\n",
       "      <td>ujmEBvifdJM6h6RLv4wQIg</td>\n",
       "      <td>1.0</td>\n",
       "      <td>b'Total bill for this horrible service? Over $...</td>\n",
       "    </tr>\n",
       "    <tr>\n",
       "      <td>1</td>\n",
       "      <td>NZnhc2sEQy3RmzKTZnqtwQ</td>\n",
       "      <td>5.0</td>\n",
       "      <td>b\"I *adore* Travis at the Hard Rock's new Kell...</td>\n",
       "    </tr>\n",
       "    <tr>\n",
       "      <td>2</td>\n",
       "      <td>WTqjgwHlXbSFevF32_DJVw</td>\n",
       "      <td>5.0</td>\n",
       "      <td>b\"I have to say that this office really has it...</td>\n",
       "    </tr>\n",
       "    <tr>\n",
       "      <td>3</td>\n",
       "      <td>ikCg8xy5JIg_NGPx-MSIDA</td>\n",
       "      <td>5.0</td>\n",
       "      <td>b\"Went in for a lunch. Steak sandwich was deli...</td>\n",
       "    </tr>\n",
       "    <tr>\n",
       "      <td>4</td>\n",
       "      <td>b1b1eb3uo-w561D0ZfCEiQ</td>\n",
       "      <td>1.0</td>\n",
       "      <td>b'Today was my second out of three sessions I ...</td>\n",
       "    </tr>\n",
       "  </tbody>\n",
       "</table>\n",
       "</div>"
      ],
      "text/plain": [
       "              business_id  stars  \\\n",
       "0  ujmEBvifdJM6h6RLv4wQIg    1.0   \n",
       "1  NZnhc2sEQy3RmzKTZnqtwQ    5.0   \n",
       "2  WTqjgwHlXbSFevF32_DJVw    5.0   \n",
       "3  ikCg8xy5JIg_NGPx-MSIDA    5.0   \n",
       "4  b1b1eb3uo-w561D0ZfCEiQ    1.0   \n",
       "\n",
       "                                                text  \n",
       "0  b'Total bill for this horrible service? Over $...  \n",
       "1  b\"I *adore* Travis at the Hard Rock's new Kell...  \n",
       "2  b\"I have to say that this office really has it...  \n",
       "3  b\"Went in for a lunch. Steak sandwich was deli...  \n",
       "4  b'Today was my second out of three sessions I ...  "
      ]
     },
     "execution_count": 23,
     "metadata": {},
     "output_type": "execute_result"
    }
   ],
   "source": [
    "df.head()"
   ]
  },
  {
   "cell_type": "code",
   "execution_count": 24,
   "metadata": {},
   "outputs": [
    {
     "data": {
      "text/plain": [
       "(6685900, 3)"
      ]
     },
     "execution_count": 24,
     "metadata": {},
     "output_type": "execute_result"
    }
   ],
   "source": [
    "df.shape"
   ]
  },
  {
   "cell_type": "code",
   "execution_count": 25,
   "metadata": {},
   "outputs": [
    {
     "data": {
      "text/html": [
       "<div>\n",
       "<style scoped>\n",
       "    .dataframe tbody tr th:only-of-type {\n",
       "        vertical-align: middle;\n",
       "    }\n",
       "\n",
       "    .dataframe tbody tr th {\n",
       "        vertical-align: top;\n",
       "    }\n",
       "\n",
       "    .dataframe thead th {\n",
       "        text-align: right;\n",
       "    }\n",
       "</style>\n",
       "<table border=\"1\" class=\"dataframe\">\n",
       "  <thead>\n",
       "    <tr style=\"text-align: right;\">\n",
       "      <th></th>\n",
       "      <th>business_id</th>\n",
       "      <th>name</th>\n",
       "      <th>address</th>\n",
       "      <th>city</th>\n",
       "      <th>state</th>\n",
       "      <th>postal_code</th>\n",
       "      <th>latitude</th>\n",
       "      <th>longitude</th>\n",
       "      <th>stars</th>\n",
       "      <th>review_count</th>\n",
       "      <th>is_open</th>\n",
       "      <th>attributes</th>\n",
       "      <th>categories</th>\n",
       "      <th>hours</th>\n",
       "    </tr>\n",
       "  </thead>\n",
       "  <tbody>\n",
       "    <tr>\n",
       "      <td>0</td>\n",
       "      <td>1SWheh84yJXfytovILXOAQ</td>\n",
       "      <td>Arizona Biltmore Golf Club</td>\n",
       "      <td>2818 E Camino Acequia Drive</td>\n",
       "      <td>Phoenix</td>\n",
       "      <td>AZ</td>\n",
       "      <td>85016</td>\n",
       "      <td>33.522143</td>\n",
       "      <td>-112.018481</td>\n",
       "      <td>3.0</td>\n",
       "      <td>5</td>\n",
       "      <td>0</td>\n",
       "      <td>{'GoodForKids': 'False'}</td>\n",
       "      <td>Golf, Active Life</td>\n",
       "      <td>None</td>\n",
       "    </tr>\n",
       "    <tr>\n",
       "      <td>1</td>\n",
       "      <td>QXAEGFB4oINsVuTFxEYKFQ</td>\n",
       "      <td>Emerald Chinese Restaurant</td>\n",
       "      <td>30 Eglinton Avenue W</td>\n",
       "      <td>Mississauga</td>\n",
       "      <td>ON</td>\n",
       "      <td>L5R 3E7</td>\n",
       "      <td>43.605499</td>\n",
       "      <td>-79.652289</td>\n",
       "      <td>2.5</td>\n",
       "      <td>128</td>\n",
       "      <td>1</td>\n",
       "      <td>{'RestaurantsReservations': 'True', 'GoodForMe...</td>\n",
       "      <td>Specialty Food, Restaurants, Dim Sum, Imported...</td>\n",
       "      <td>{'Monday': '9:0-0:0', 'Tuesday': '9:0-0:0', 'W...</td>\n",
       "    </tr>\n",
       "    <tr>\n",
       "      <td>2</td>\n",
       "      <td>gnKjwL_1w79qoiV3IC_xQQ</td>\n",
       "      <td>Musashi Japanese Restaurant</td>\n",
       "      <td>10110 Johnston Rd, Ste 15</td>\n",
       "      <td>Charlotte</td>\n",
       "      <td>NC</td>\n",
       "      <td>28210</td>\n",
       "      <td>35.092564</td>\n",
       "      <td>-80.859132</td>\n",
       "      <td>4.0</td>\n",
       "      <td>170</td>\n",
       "      <td>1</td>\n",
       "      <td>{'GoodForKids': 'True', 'NoiseLevel': 'u'avera...</td>\n",
       "      <td>Sushi Bars, Restaurants, Japanese</td>\n",
       "      <td>{'Monday': '17:30-21:30', 'Wednesday': '17:30-...</td>\n",
       "    </tr>\n",
       "    <tr>\n",
       "      <td>3</td>\n",
       "      <td>xvX2CttrVhyG2z1dFg_0xw</td>\n",
       "      <td>Farmers Insurance - Paul Lorenz</td>\n",
       "      <td>15655 W Roosevelt St, Ste 237</td>\n",
       "      <td>Goodyear</td>\n",
       "      <td>AZ</td>\n",
       "      <td>85338</td>\n",
       "      <td>33.455613</td>\n",
       "      <td>-112.395596</td>\n",
       "      <td>5.0</td>\n",
       "      <td>3</td>\n",
       "      <td>1</td>\n",
       "      <td>None</td>\n",
       "      <td>Insurance, Financial Services</td>\n",
       "      <td>{'Monday': '8:0-17:0', 'Tuesday': '8:0-17:0', ...</td>\n",
       "    </tr>\n",
       "    <tr>\n",
       "      <td>4</td>\n",
       "      <td>HhyxOkGAM07SRYtlQ4wMFQ</td>\n",
       "      <td>Queen City Plumbing</td>\n",
       "      <td>4209 Stuart Andrew Blvd, Ste F</td>\n",
       "      <td>Charlotte</td>\n",
       "      <td>NC</td>\n",
       "      <td>28217</td>\n",
       "      <td>35.190012</td>\n",
       "      <td>-80.887223</td>\n",
       "      <td>4.0</td>\n",
       "      <td>4</td>\n",
       "      <td>1</td>\n",
       "      <td>{'BusinessAcceptsBitcoin': 'False', 'ByAppoint...</td>\n",
       "      <td>Plumbing, Shopping, Local Services, Home Servi...</td>\n",
       "      <td>{'Monday': '7:0-23:0', 'Tuesday': '7:0-23:0', ...</td>\n",
       "    </tr>\n",
       "  </tbody>\n",
       "</table>\n",
       "</div>"
      ],
      "text/plain": [
       "              business_id                             name  \\\n",
       "0  1SWheh84yJXfytovILXOAQ       Arizona Biltmore Golf Club   \n",
       "1  QXAEGFB4oINsVuTFxEYKFQ       Emerald Chinese Restaurant   \n",
       "2  gnKjwL_1w79qoiV3IC_xQQ      Musashi Japanese Restaurant   \n",
       "3  xvX2CttrVhyG2z1dFg_0xw  Farmers Insurance - Paul Lorenz   \n",
       "4  HhyxOkGAM07SRYtlQ4wMFQ              Queen City Plumbing   \n",
       "\n",
       "                          address         city state postal_code   latitude  \\\n",
       "0     2818 E Camino Acequia Drive      Phoenix    AZ       85016  33.522143   \n",
       "1            30 Eglinton Avenue W  Mississauga    ON     L5R 3E7  43.605499   \n",
       "2       10110 Johnston Rd, Ste 15    Charlotte    NC       28210  35.092564   \n",
       "3   15655 W Roosevelt St, Ste 237     Goodyear    AZ       85338  33.455613   \n",
       "4  4209 Stuart Andrew Blvd, Ste F    Charlotte    NC       28217  35.190012   \n",
       "\n",
       "    longitude  stars  review_count  is_open  \\\n",
       "0 -112.018481    3.0             5        0   \n",
       "1  -79.652289    2.5           128        1   \n",
       "2  -80.859132    4.0           170        1   \n",
       "3 -112.395596    5.0             3        1   \n",
       "4  -80.887223    4.0             4        1   \n",
       "\n",
       "                                          attributes  \\\n",
       "0                           {'GoodForKids': 'False'}   \n",
       "1  {'RestaurantsReservations': 'True', 'GoodForMe...   \n",
       "2  {'GoodForKids': 'True', 'NoiseLevel': 'u'avera...   \n",
       "3                                               None   \n",
       "4  {'BusinessAcceptsBitcoin': 'False', 'ByAppoint...   \n",
       "\n",
       "                                          categories  \\\n",
       "0                                  Golf, Active Life   \n",
       "1  Specialty Food, Restaurants, Dim Sum, Imported...   \n",
       "2                  Sushi Bars, Restaurants, Japanese   \n",
       "3                      Insurance, Financial Services   \n",
       "4  Plumbing, Shopping, Local Services, Home Servi...   \n",
       "\n",
       "                                               hours  \n",
       "0                                               None  \n",
       "1  {'Monday': '9:0-0:0', 'Tuesday': '9:0-0:0', 'W...  \n",
       "2  {'Monday': '17:30-21:30', 'Wednesday': '17:30-...  \n",
       "3  {'Monday': '8:0-17:0', 'Tuesday': '8:0-17:0', ...  \n",
       "4  {'Monday': '7:0-23:0', 'Tuesday': '7:0-23:0', ...  "
      ]
     },
     "execution_count": 25,
     "metadata": {},
     "output_type": "execute_result"
    }
   ],
   "source": [
    "# business = pd.read_json('business.json',lines=True)\n",
    "business.head()"
   ]
  },
  {
   "cell_type": "code",
   "execution_count": 26,
   "metadata": {},
   "outputs": [
    {
     "data": {
      "text/plain": [
       "business_id\n",
       "--1UhMGODdWsrMastO9DZw    b'If you are looking for authentic Mexican str...\n",
       "--6MefnULPED_I942VcFNA    b\"They have the best Chinese BBQ Pork (Char Si...\n",
       "--7zmmkVg-IMGaXbuVd0SQ    b\"I'm a tad reluctant to write a review as I r...\n",
       "--8LPVSo5i0Oo61X01sV9A    b'Dr. LaCognata is great.  He is a great liste...\n",
       "--9QQLMTbFzLJ_oT-ON3Xw    b'Always great customer service. Affordable ha...\n",
       "Name: text, dtype: object"
      ]
     },
     "execution_count": 26,
     "metadata": {},
     "output_type": "execute_result"
    }
   ],
   "source": [
    "# df_review_agg=df.groupby('business_id')['text'].sum()\n",
    "df_review_agg.head()"
   ]
  },
  {
   "cell_type": "code",
   "execution_count": 27,
   "metadata": {},
   "outputs": [
    {
     "data": {
      "text/plain": [
       "'b\"They have the best Chinese BBQ Pork (Char Siu) in town, and they called it Char Siu Wong (King of Chinese BBQ Pork).  Hmm... It\\'s pretty true!  I\\'ve to pre-order this dish every single time, cuz it\\'s always sold out.\\\\n\\\\nOther dishes are very good too, like Roast Pork, Fried Glutinous Rice, Steamed Fish, etc.\\\\n\\\\nI can\\'t stop myself for coming back when I\\'m craving for Siu Mei\"b\"I come here with my gf and her family often and they never disappoint.  The food is always served fresh and with typical Chinese restaurants the service is sub par unless you are a regular customer.  The decor itself is your usual Chinese bbq house/restaurant and is nothing to go crazy over, but it\\'s the food that keeps us coming back here.\\\\n\\\\nThe dishes we usually order and are their top of the line choices include their steamed fresh fish, minced pork meat pie, bitter melon and meat, steamed chicken and assorted styles of cooked vegetables with shrimp paste.  The food is served fresh and hot and always comes out quickly.  \\\\n\\\\nThe take out and bbq to order is also very delicious and you\\'ll have to get there early if you want the famous bbq pork or duck.  Make sure to call in advance if you want to book a table on a busy day or are looking for a special dish!\"b\"The bbq pork is very juicy and I only come here for that. The price is a tad bit on the higher end and portion is small. Everything else is average...servers are consist of two chubby sister whom I believe are also owners, a grandmother standing near the kitchen to pass on the food and two older men server. I personally don\\'t like the owners that much. They seem rude and greedy at times. They seem to favor big crowds which equals to more $$$ and ignore the smaller group.\"b\"I walked by the restaurant more than 5 years ago when I witnessed from the window one of the employees drop a bbq chicken wing on the floor, pick it up and place it back in the bbq meat display cabinet as if nothing happened. After that, I vowed never to come here, but after 5+ years, I figured I should try it at least once... \\\\n\\\\nI kept seeing glowing reviews here about the great char-siu wong (bbq pork king). I see comments like the best in GTA, so I had to try it out. At $28 for the made-to-order char-siu dish, I was expecting something that would be on par with the best. Sadly, I\\'ve had better bbq pork from fast food take out places (Richlane, Kum Hong BBQ, etc...). It was slightly cold, suggesting they just warmed it up. The edges were burnt, but the outer layer wasn\\'t crispy. They put way too much honey making it too sweet. Worst of all, the pork wasn\\'t very tender. Was quite disappointed... \\\\n\\\\nThe bbq pork at Skyview fusion (Woodbine and Hwy 7) is way better. Also I would say the one at Dragonboat is also better. Heck, even the two fast food bbq places I mentioned are better. This place is also quite expensive, especially considering the food is not that great and the place is very rundown. \\\\n\\\\nOh, and this place has got to be the only BBQ place I\\'ve seen where the meat in the display cabibet looks completely unappetizing! The cold  char-siu has been sitting there all day and is all shriveled up from rigamortis. Very likely been dropped on the floor few times as well! \\\\n\\\\nShould have trusted my gut instinct from 5 years ago and never tried this place... Not coming back.\"b\"Expensive...?\\\\n\\\\nI\\'ve never been to a place where the average dish for dinner is $8. That\\'s right: 8 DOLLARS. Okay fine, the portions are smaller than usual, but still, 8 dollars?!\\\\n\\\\nThe specialty, of course, is their BBQ Pork. Unfortunately, two people in my household can not eat pork, so we had to skip on that. I did hear it\\'s great though, and will probably try some other time.\\\\n\\\\nWhat did not cost 8 dollars, and probably should have, was their shark fin rice mixed with some sort of soup, which cost $19. There was certainly a lot of rice and soup, but the shark fin lacked extremely.\\\\n\\\\nAlthough since the bill came out to $72 for a table of 5 with the rice (so $53 without), I can\\'t really complain...except maybe the shoddy service we got.\"b\\'This is probably the worst customer service I\\\\\\'ve ever experienced. I called to book a table for dinner two days later. Immediately, I was put on a hold for 2 mins, then when I told her the time, and number of people. She said \"Can you hurry up, I still got other things to do!\" in a rude tone. I was shocked, but still put in the reseveration because it\\\\\\'s for a family reunion. But I don\\\\\\'t think I will ever go back again.\\'b\\'If you want a quick fix for a scrumptious char siu or chinese pork bbq, this is theeee place.  Hot and fresh, nicely charred and crunchy on the outside, and loaded with flavor.  The soy-ed & sweet beans in which it bathes its tender juicy meat gives this dish the best taste everyone will keep talking about and crave for - I know because we do!  ;-)\\\\n\\\\nThey offer other great dishes too and its delicious!  2 setbacks though: more pricey for the same items we can find elsewhere, and the serving size a disappointment.  Another unfashionable thing is the Cash Only.  \\\\n\\\\nIt has never been too busy in all the lunch hours we went there but their take-outs are quite busy.  This is also a very family friendly restaurant so we gladly bring our little ones along.\\'b\"Had dinner yesterday (Saturday) at around 7:30 pm.  We were seated promptly.\\\\n\\\\nOrdered:\\\\nChar siu, $11.\\\\nTofu with minced meat,$11.\\\\nPrawns in egg yolk, $22.\\\\nBeef curry, $11.\\\\nSweet noodles with sugar/red vinegar, $12.\\\\n\\\\nAll tasted ok.\\\\nExpensive for what was offered.\\\\n\\\\nThe prawns were mixed with real prawns and 2 shrimps put together to appear as a prawn (trickery used by the restaurant).\\\\nBatter is made of egg yolk and their trickery was well hidden by the batter until eaten (left with 2 tails)\\\\nFor $22, the dish had 3 prawns and 6 doubled-up regular shrimps.\\\\nNot worth it!\\\\n\\\\nPersonally, I won\\'t recommend this restaurant because of their dishonest\\\\ncooking practices.\\\\n\\\\nKnown for their char siu....which I think is\\\\noverrated, expensive and nothing extraordinary.\"b\\'Just like most previous reviews. The signature roasted pork was juicy and moist with the sweet tangy taste. We were ask if we wanted marbling or lean, we choose the roasted pork with a little fat, and it really is that good! Roasted duck and free range chicken was just as high quality. The foods was deserving of five stars. The place was a little outdated, but I will definitely want to come back just to eat, and not minding my surrounding.\\'b\\'This is one of my top 3 places to get BBQ pork (char siu). It is not the cheapest option, but you get what you pay for. My other go tos include Kum Hong BBQ and Skyview Fusion restaurant.\\'b\"Of the 6 Cantonese BBQ places I have tried in GTA, this one is by far the best of all.  If one wants to get a comparison since Cantonese BBQ has different styles, I would point to Big Wong BBQ off Mott Street in NY during the 90\\'s (it\\'s different now compared to back then).\\\\n\\\\nMy favorite:  their crispy skin pork and char siu (red roast pork).  The crispy skin is not just crispy, it breaks up in a crunch fluffy kind of way, with the layer of fat soften to the point of near melting point but still there, and the meat is moistened perfectly.  Now bear in mind:  you need to make sure you get there earlier vs later (after 2 pm) when the meat is very fresh to achieve this desirable effect on the taste buds.  And always try and get the part of pig near the kidney area for the most tender juicy flavors.\\\\n\\\\nAbout some of the other Yelpers complain on service and higher price:  seems kind of trivial to me personally.  The slightly higher price simply reflects the higher quality (which naturally takes more labor to produce right?) of the BBQ offerings.  More labor, more time means more money/costs.  As for service:  I was polite and the lady cashier was very polite.  I would guess the younglings on Yelp were less than courteous, and in response and fairness, received the same type of indifference from the cashier.  Old saying:  Don\\'t do unto others you wouldn\\'t want done to you.....\"b\"I find myself here time and time again with the family. They\\'re well known for the bbq pork, which sells out quite fast! Best thing to do is to call ahead and order it first, then when you come in for your meal, you\\'ll know you got it.\\\\n\\\\nI love their soup of the day. They come in the same size bowl no matter how large your party is, so if you\\'re just 2 people, you\\'ll get plenty. On the flip side, if you come in with 6 people, don\\'t be afraid to ask for more.\\\\n\\\\nMy favourite dishes are the bbq pork, the scrambled eggs with shrimp, and the minced pork pancake. These dishes make me chow down on rice like nothing else, and makes for good nommy times. \\\\n\\\\nI personally find nothing lacking in the service - I don\\'t expect a shining example of stellar service at the typical Chinese restaurant, but perhaps the fact that my family is here every week helps?\"b\"Simple Cantonese style restaurant with half decent offerings... they have a bbq section up front if you choose to get some for take out....\\\\nMost meals will provide complimentary soup... but there is no complimentary dessert of any type... not even oranges... \\\\nThey are known for their honey glazed BBQ pork... it\\'s ok but the price per plate is a little steep ($30.00). The other dishes area little more reasonably priced.\"b\"We, party of 4, were very sceptical coming in here for lunch. There are so many good Chinese restaurants on Highway 7, what makes this one so special?  Well...this place has,in my opinion, the best roast pork and bbq pork on Highway 7. The skin is very crispy and there isn\\'t a lot of fat. The beans around it just compliments the dish. The bbq pork is also very tasty and their awards on the wall is no lie. Vegetables we order is very tender and the curry beef dish is delicious!!!!  The servers here are polite, attentive and very helpful.\\\\n\\\\nIn retrospect, we will definitely come back for more roast pork and bbq pork. Next time will try their dinner service.\"b\\'Good quality Chinese food.  Decor is nice for a Chinese restaurant.  The BBQ pork is probably the best in the city.  Served hot, it\\\\\\'s very flavorful and moist.  The other dishes do not disappoint either.  The stirfries are all good with a good \"wok hay\".  Food is always hot and fresh and service is good.\\'b\\'Great selection of authentic Chinese dishes. The made-to-order goo lo yuk (sweet and sour pork) was well worth the wait.  The honey deep fried oysters and bbq pork were excellent too.  Will visit again for sure!\\'b\"Six dollars combo include free soup and one main course. Wesley and Brian\\'s dish look better than mine.\"b\"Definitely the best BBQ pork in town! Made to order BBQ pork for 30 a plate. But it\\'s worth it. So tasty! Other dishes are okay, pretty standard in Richmond Hill area. But the BBQ pork was truly outstanding. Will come back just for the BBQ.\"b\\'In the ultra competitive Chinese restaurant industry of Richmond Hill, what can you do to make your restaurant stand out?  Decor/interior is one thing for sure.  But a more obvious thing is to offer some value in the food you serve.\\\\n\\\\nBy \\\\\\'value\\\\\\' I am talking about bang-for-your-buck.  How delicious is it for the amount of money you pay?  How much food is served for the amount of money you pay?  If you are served a truly flavourful and succulent dish that is enough to share between 3-4 adults at a price that remains competitive, that is true value.\\\\n\\\\nJohn\\\\\\'s Chinese BBQ Restaurant is nicely renovated since the old school days.  However, the rest is downhill from there.\\\\n\\\\n1.  Food - aside from the noodles in soup, everything else is ultra ultra expensive - so expensive, in fact, that one can\\\\\\'t help be insulted at the audacity of the owners to set such a high price for what is being served and \"how\" it\\\\\\'s being served.\\\\n\\\\nExample:  snow pea leaves with garlic = $16 + taxes.  What the...are we in Hong Kong?  $16 for snow pea leaves!?  Lobster = $20 + taxes for 1 small lobster;  Beef with 2 kinds of mushrooms = $15; Fried Grouper with pepper and salt = $12.\\\\n\\\\n2.  Service - terrible.  For the prices this place charges, you\\\\\\'d expect exceptional, Chinese wedding banquet level service.  Expect the same unhappy faces serving you that you get from a joint like Richmond Court.  The owners/management were too busy stuffing their own faces to fetch our tea - even when asked.  And when we got up to leave, that was the ONLY time one of the owners/management ran over to \"check\" our payment.  Yup, Chinese service at best.  Unbelievable.\\\\n\\\\nIn summary:  this place does not serve food better than any other place for any of the dishes they have on the menu.\\\\nAnd considering the prices set for what you get, it\\\\\\'s blatant robbery at best.  DO NOT GO HERE.  How this place managed to stay in business is beyond me.\\'b\"Decent food for decent price.  \\\\nThis is a standard Chinese BBQ restaurant. Nothing great but nothing bad about the place. It\\'s a good standard if you\\'re in the area. I do notice that I\\'m overly thirsty when eating their food so it tells me they don\\'t use as much MSG as other places which is good in my books.\"b\"The char siu is pretty tasty here, but was lacking the fattiness and moisture that I\\'ve come to enjoy about good Chinese BBQ pork. The roast duck was excellent with crispy skin and lots of tender meat. The duck was definitely the star of the show in my experience. Somewhere I\\'d definitely return to for some good Chinese BBQ.\"b\"Johns Chinese BBQ ruined Char Siu Pork for me.. Forever. I cannot eat it at dim sum, or a Chinese food court, or anywhere for that matter, without thinking about John\\'s Char Siu.\\\\n\\\\nI discovered this place through Nick Liu of DaiLO. He took his team here for staff meal, and he claimed the Char Siu Pork was the best in the GTA. I took his word for it and made the HWY 7 trek out to Richmond Hill on a snowy day\\\\n\\\\n$8.50 gets you a decent portion of char siu bbq porn sliced on top of rice and topped with the light gravy. The pork is smoky, sweet, moist, cooked perfectly, and succulent.\\\\n\\\\nThere is not much left to say either than come here and try the pork.\\\\n\\\\n**Minus one start for unfriendly service, as noted by other Yelp reviewers. The lady at the cash knows she has the real deal char siu, and she DGAF about anybody.\"b\"Best tasting BBQ pork in the region! I started coming here 10 years ago after my colleagues recommended it.  We still pick up pork here for my family even though I\\'ve converted to a meat free diet 4 years ago.  But my family members always say this place is still their top choice\"b\\'I was not impressed.  ordered Roasted pork, BBQ pork and yellow chicken.  Roasted port was not tender, it was actually a bit dry.  BBQ was average at best.  Yellow chicken was good as long as you smothered it in the ginger sauce.\\'b\"This place is a favourite lunch spot for my family for years and years. We usually get combo a or b; which comes with a fried rice/noodle; a dish of old water tofu( this is one of my favourite places for this dish); roast duck congee and two kind of BBQ meat combo. This usually comes out to about $30 total for 4 people - and there is more than enough food. \\\\n\\\\nDinner is ok too - although if you can\\'t read Chinese - you are pretty much limited to what is printed on their bi-lingual menu and you do miss out on quite a lot of their other dishes - and they have well over 30 different dishes to try - one of my favourites is their scrambled egg and shrimp dish - their eggs are just fluffy enough and done just right.\"b\"John\\'s Chinese BBQ Restaurant is one of those restaurants that you will feel so out of place if you come as a couple or don\\'t even think about it alone! \\\\n\\\\nWhy so?? There are no small tables... the smallest one is the one that you can sit 4 people comfortably.... I guess when it is busy, singles are expect to share tables with others?\\\\n\\\\nLunch specials does have a separate menu that is under $10 that includes 1 entrees that you can choose for, a soup and a rice.. not too bad.\\\\n\\\\nSui Kow Noodles (Shrimp Dumplings with Noodle Soup) $5.00\\\\n- The dumplings according to the waiter was freshly prepared... better be since I wait and wait and wait for 15 minutes for my order to come and I am the only person in the restaurant\\\\n- shrimp dumplings really small... has 2 small shrimps inside and some pork... not bad.. but disappointing small\\\\n- Store bought noodle is A-OK.. not overcooked so not soggy.. and have a chew on it\\\\n- Suggestion: need to have some chives or green onion as garnish... look at my boring yellowish photos... everything are yellowish...even the soup itself... little garnish not only improve presentation but also the taste!\\\\n\\\\nAdvice:\\\\n- don\\'t come to dine in if you are alone.. take out a BBQ lunch box will be your best bet...\\\\n- don\\'t come even for lunch if there is an important Chinese holiday like First Day of Winter... the staffs will be so busy taking phones reservations and prep for the busy dinning hours then taking care of you.. and you will find you eating in the middle of a war zone (staffs yelling at each other, tables moves around... ) and you will not have a nice and peaceful lunch even if the place is empty!\\\\n\\\\nCash Only!\"b\"My family has been taking me to this restaurant once in a while over the last 15 years and we saw the growth from one tiny restaurant to expanding it by buying the adjacent store and joining them to expand the floor area.\\\\n\\\\nTheir lunch menu is $7.50 per dish. We had the stir-fried rice noodle with beef and it was delicious. This restaurant prides itself in serving quality dishes and it didn\\'t disappoint me. The award-winning char-siu is cooked when ordered. While it will take time for the dish to be served, this guaranteed its freshness\"b\"I came here late for dinner with my family, and they just ran out of the roast pork that we wanted to order (also the main reason we wanted to go to this place). We decided to come back the next day for dinner instead, and we were able to reserve an order of roast pork and a whole roast duck to make sure the same thing wouldn\\'t happen to us again. This required a $50 payment in advance.\\\\n\\\\nThe roast pork was amazing. The meat was tender with just the right amount of fat, but certain pieces of the meat were a little too burnt. The bbq honey sauce they used on the pork was really good.. It had the perfect consistency and flavor. There was also a small layer of beans hiding under the meat.. I was a little surprised to see this, but it actually worked. The roast duck was excellent as well. The skin was crispy, and the meat was very juicy. I didn\\'t eat too much of the steamed fish, but it was pretty good from what I tried. The veggies we ordered were about as good as I expected them to be.\\\\n\\\\nThey clearly use high quality ingredients here, but the prices still seem too high overall. If I lived in the area, I would only come here once in a while because of that. Still, even with the high prices, I think that everyone should try this restaurant at least once because of their delicious roast pork.. It is honestly among the best I\\'ve ever had.\"b\"Not sure why all the hype about this place.   I\\'ve visited this place 3 times and what I found common is the BBQ pork was average at best.  Roast Pork was a bit dry and salty (noticed this all 3 times).  Skin was NOT crunchy as I\\'m use to on 2 occasions..  \\\\n\\\\nPeople working inside never seem to smile.\\\\n\\\\nOnly reason why I went here 3 times is because there are medical offices near it.  I have to train myself not to buy on convenience as there are alot of other BBQ shops around there that are way better.\\\\n\\\\nPrice was average.\"b\\'Went there yesterday at around 5. Me and a friend ordered two combos of chicken with BBQ pork. While we waited for the meat to be cut up the owner lady yelled at us demanding we pay up... ok there\\\\\\'s your $18.10. Me and the friend the decided we want to eat our food there instead of taking out so we proceeded to sit down. And the wham! The unexpected happens. The owner  \"invited\" us  to leave saying we can\\\\\\'t eat there because we ordered take out. Wow the place was pretty dead at the time other than two employees staring at each other. What a shitass experience. And turns out their take out combo portion was the smallest I have ever seen. For 18 bucks we got 2 small pieces of chicken together not even bigger than a regular sized thigh from Popeyes. And the two fried egg sized BBQ pork were soo dry and tasteless. Never going back again\\'b\"After years of going to Lung Tung BBQ, and being disappointed with their uneven portions, I finally tried this place after hearing so much about them. I was not disappointed. The HK BBQ duck was either the best or close the best that I\\'ve tasted (Lung Tung still has the best imho). Succulent, juicy, with crispy skin intact. The roast pork was also good (Ho Ho and Lung Tung are better), but it\\'s the duck that takes the prize. I\\'m still giving it a 5 star even if customer service is not the friendliest...\"b\"Honestly, food is five stars, but customer service (especially the owner\\'s wife) is super unfriendly! \\\\n\\\\nMost of the time when I go in, she looks like someone had been seriously pissing her off.  And I\\'ve been going there for years!!!!!   Every time I go in, I just hope that it\\'s not the wife that\\'s at the cashier.  Cause I just want to take her attitude.  The husband and the rest of the staff are really otherwise friendly.\"b\"If you\\'re a true Chinese food enthusiast, you\\'ll need to visit this restaurant.  It\\'s not your typical $5/plate restaurants. Plate averages $15+, but the quality and variety they offer are excellent (ie. bitter melon with dried scallop scrambled egg....nom...).  \\\\n\\\\nThe service on the other hand will need much improvement.  So usually I just come for take out to avoid the grumpy faces :)\"b\\'Roasted pork is one of my favorite things... And we pay a premium for the meat around the ribs and the belly area because of the wonderful marbling...  beautiful layer after layer of alternating meat and fat.  My wife bought some from John\\\\\\'s today... paid a premium for this \"cut\" and when I opened up the box it was all meaty pieces without marbling... Very disappointed.  The flavour was decent but not the cut we paid for.  Probably best to keep going to the BBQ place at Valleymede and HWY 7 (north side) in the plaza with McDees.\\'b\\'This place is a restaurant and a chinese BBQ restaurant.  The food was delicious.  In particular, I liked their sweet and sour pork they separated the sauce from the pork so that it remained crispy until you mix the two.  I also loved their winter melon \"bowl\" soup, which was pretty lavish in that it mixed a lot of ingredients to get that umami taste.  The prices are a little bit expensive compared to their competitors. Overall, I enjoyed this restaurant.\\'b\\'This restaurant is famous for their BBQ dishes and they are actually very good. It also has a variety of other non-BBQ dishes. Compare to other places that sell BBQ dishes, this restaurant is a bit pricey but their dishes are pretty good.\\'b\\'They have two kinds of char siu (pork bbq). The regular version is displayed in their takeout area, while the special version is available only for dine in.  Regular char siu sells for $8.75/lb, plus $1.00 for slicing it.  Color is reddish brown, with just the right bit of charring on the tips.  While the cut of meat is lean and not very moist, it is not as chewy nor dry as it looks.  Flavor is good, especially where the glaze had caramelized during cooking.  Special char siu is $30 an order, probably between 1 lbs to 1-1/2 lbs a plate.  I understand they use pork belly for this dish, which has more fat and juices, hence tastes better.  Is it worth the 3X price premium over their regular char siu ?  That is up for debate\\'b\"The BBQ meats here are the only items I find excellent. Served hot, the meat was succulent, especially my favourite BBQ pork. The BBQ pork is a perfect balance of sweet and savoury. The soybeans underneath were an extra treat. They were sweet and so flavourful that I could have had them on their own.\\\\n\\\\nThe items on the main menu are fairly pricey. While the food is certainly satisfying, I wouldn\\'t consider the price point proportional to the taste. They do have a special menu (all in Chinese) with smaller dishes that are all $7.99 that my family usually orders from. It allows us to have a variety of dishes without breaking the bank. Beef with bitter melon is a simple dish, but one of our favourites here. The size of the dishes are smaller of course, but the quality doesn\\'t differ too much from the main menu. \\\\n\\\\nWhat really detracts from this establishment is the service. Having eaten at more than my fair share of Chinese restaurants, I do not expect extremely attentive service (nor do I really desire it), but the service during my previous visit was borderline rude. One of the servers walked away when she saw us come in, and brusquely commanded a co-worker to seat us. When we ordered our food, the server asked condescendingly if all the dishes we ordered were from the special menu. The complimentary desserts (yes, I know it\\'s complimentary but still) were put onto our table while we were still a considerable ways from finishing dinner. \\\\n\\\\nPerhaps I\\'m being a bit dramatic, but considering the fact that this is not your average Chinese restaurant, I did hold a slightly higher standard. They are also capable of exceptional service, as evidenced by my first visit, when I was with a larger party and ordering more expensive dishes. The difference in service was also noticeable during my last visit, when there was one party holding a feast in the adjacent room. It\\'s understandable that close friends or VIPs are treated extra special, but that\\'s no excuse for being ill-mannered to the average patron.\"b\"This place is my favourite restaurant, if only it were not in Richmond Hill so far from me I\\'d probably go there at least couple times a week.\\\\nTheir speciality need to preorder is the duck \\\\xef\\\\xbc\\\\x88\\\\xe7\\\\x90\\\\xb5\\\\xe7\\\\x90\\\\xb6\\\\xe9\\\\xb4\\\\xa8\\\\xef\\\\xbc\\\\x89 and shrimp paste stuff chicken \\\\xef\\\\xbc\\\\x88\\\\xe7\\\\x99\\\\xbe\\\\xe8\\\\x8a\\\\xb1\\\\xe9\\\\x9b\\\\x9e\\\\xef\\\\xbc\\\\x89 is a must to try.  I love their black bean steamed eel too (which they don\\'t have all the time) as well as other dishes.\\\\nFor lunch I\\'d like their bbq stuff, like gizzards, livers, crispy skin roast pork, and duck.  Just thinking about it makes me want to drool  \\\\nIf you have plans to go by that area, definitely go in and try their speciality.  Make sure you preorder first though.\"b\"Thanks to the grumpy ass old lady for telling me that if I didn\\'t like the pieces of char siu she chose for me, and proceeding to throw the pieces back and sitting her ass down again, that I could leave.  Two thumbs up to customer service.  If you fellow yelpers like being treated like shit, by all means, please come here.  These kinds of places are good for when the sun is shining too bright and you have a hop in your step and need to be knocked down from your high horse of being too damn happy.  \\\\n\\\\nSide note:  \\\\nYoung ladies and gentlemen, if you wanna see what the other side lives like when business is good and you don\\'t need to bust your ass for that dollar...come here and take notice.\"b\"I came here to order a roast duck over rice to go because there isn\\'t a whole lot of restaurants to choose from that is within walking distance from where I was staying. Plus it was just for myself so no need to be all fancy with a sit-down meal. It costed me over $9! I was taken aback considering it was not only overpriced, but it does not come with a side of veggies nor complimentary soup like I am used to at pretty much every other Chinese BBQ places I\\'ve been to. It does come with a ton of rice that can feed a village and the roast duck itself was pretty good. Either way, I wouldn\\'t come back.\"b\"Wow, what a jerk! I don\\'t write terrible reviews but this one is a piece of work. I ordered takeout from them and they skipped the soup because I am not a regular. I asked my friend later and apparently they only give you soup when you ask them after you realize you got ripped off. They are gambling on the idea that you will forget. How cheap can they get? They already charge me 9 bucks for just a small  dish. Never going there again. Will not recommend to friends. Terrible way to do business and very disappointed.\"b\\'i like humble-pie.\\\\nbut the owner walks around with a blown-up, laminated newspaper  article proclaiming his famous bbq pork - like the proud mother of chess playing Wav-A-Lee in Joy Luck Club.\\\\nhad he not, perhaps i might have thought, \\\\\\'hey, this is different. check out the beans beneath. almost caramelized. sweet, but appropriate under the savoury-sweet pork. almost unique.\\\\\\'\\\\nexcept! it just so happens that i\\\\\\'ve had similar while dining with my dad (who really, really knows his BBQ pork) and he wouldn\\\\\\'t let me touch the stuff due to the \"marbling\" clumps of fat. call it father-daughter love, but i trust him and what I see. there\\\\\\'s a very good reason to serve this stuff warm, lest one chew into a white congealed glob of white lard. \\\\ncheap pork fat = fine. \\\\nexpensive skill = fine.\\\\ni dislike pricey pork fat and those who brag about it.\\\\n\\\\nif it\\\\\\'s possible (i\\\\\\'m really not sure) ask for a lean cut. if it\\\\\\'s available, i promise it won\\\\\\'t be as tender and tasty, but your heart will thank you!\\\\n\\\\ntip: before reheating a chilled doggy-bag, peer inside to witness the white stuff sticking to your veins. to bring to temp, try steaming or spraying with a bit of water if nuking.\\'b\\'Chinese name of this place, Canto pronounciation, Dsui Heung Yuen Hoi Seen Siu Lap Dsou Ga.\\\\n\\\\nTraditional characters can be seen on this e-businesscard link\\\\n\\\\nhttp://www.wjbusiness.com/wjb_Toronto/24135570.htm\\\\n\\\\nToo bad they picked a lackluster English name, but don\\\\\\'t let that fool you one bit, this place is SUPERBLY AUTHENTIC and assuming quality has not changed since 2003, they will always be a classy 5 star meat joint (attitude wise) operating in a simple scaled down interior, where the food really shines and speaks for itself, while dishing out the absolute best of the best of Cantonese style roast beasts and BBQ you will ever sink your jaws into.\\\\n\\\\nI\\\\\\'m biased because this place is grandma\\\\\\'s favorite, who used to live right across the street, and came here a lot with family (local and visiting) to the point they know her by name and automatically serve up the complementary slow fire cooked soup of the day (and at times even giving containers of soup for her to last a few days when she\\\\\\'s by herself).\\\\n\\\\nAnd to top it off, when we touched down in Toronto August 2003, an hour after getting out of the airport was when the whole NE grid of North America suffered a provincial wide power outtage, Radiohead was forced to cancel their 8/15/03 original date at the Molson Amphitheater (and I had a ticket to it and couldn\\\\\\'t make the rescheduled Air Canada Center date in October), John\\\\\\'s came to the rescue by setting aside portions of dinner and the finest roast beasts JUST FOR US to go, including soup, while they reduced kitchen operations to portable gas stoves and take out, so we wouldn\\\\\\'t be savoring instant noodles or canned goods during the outtage. Now THAT is class.\\\\n\\\\nOne of the key reasons for their five star award, is for John\\\\\\'s nailing down and doing the DEFINITIVE preparation of what is translated to be \"princess chicken\", sometimes casually translated to \"yellow fur chicken\", or Gwai Fei Gai. Old schoolers also know this to be Bak Cheet Gai. Basically a steamed or poached chicken that if done right, is superbly fragrant on its own from the marination and prep, surpassing the best Singaporean style Hainan Chicken even (yes, and please don\\\\\\'t gasp in horror that I said that) and then all you need is some shizzletastic sauce called ginger & scallion oil to dip in, a bowl of rice, and suddenly you be da King eating out the Princess (chicken that is, sorry that sounded royally rawng). \\\\n\\\\nEvery table at John\\\\\\'s has a sheet describing in painful detail (in Chinese) how each Princess Chicken is made, and the amount of seasoning, Chinese herbs, and the whole process itself, is a legend and probably deserves its own Yelp review. You would be amazed to learn how extremely laborious in nature it is to make a Princess from scratch, and yet it is so affordable and luxurious in taste. Sadly I misplaced that sheet of paper, and my AZN character typing skills aren\\\\\\'t up to par, so we will have to revisit the gorey details some other time.\\\\n\\\\nBut trust me, this is the bestest, sexiest Princess you will ever have in your life, tender suckalicious breasts and juiciest thighs. Most of the time the breasts end up being too dry, but John knows how to prep her to make you weep. The last time I had princess this good was at an old restaurant in Wanchai Hong Kong (Tso\\\\\\'s) that is no longer around, back in the 80s.\\\\n\\\\nRoast duck here is also sexcellent and I\\\\\\'ll bet they have roast goose as well (where it is not illegal unlike south of the border). Of course one cannot miss the cha shiu here as it is pure porkgasm.\\\\n\\\\nI can\\\\\\'t wait to come back to John\\\\\\'s again, and literally be a King at the table of roast beasts and princesses.\\'b\\'Service with boss lady is horrible but the bbq pork is really tasty!!\\\\n\\\\nFull convo in canto: The guy in front of me wanted to get 1/2 a pound and she\\\\\\'s like there is no such thing! \"not gonna give u $2.50 worth of meat, u have to get more!\" The poor guy is like what do you mean? You can order whatever u want man. I dont want to eat that much why can\\\\\\'t I just get half a pound. Boss lady\\\\\\'s like thats too little man, and no not gonna cut that for u! Its not even worth cutting... Omg that guy had it and was like ok then Im just gonna leave if you\\\\\\'re not gonna sell it and then dipped... Wowww so much anger and fume LOL and then the funny part was I was gonna ask for the exact same thing  if I did... I think she\\\\\\'d blow up ahaha she was still cussing after he left and the poor employee next to her looked so embarassed!\\'b\\'I feel it necessary to tell you to avoid this place. Avoid at all cost. The food is not good enough to warrant the terrible service.\\\\n\\\\nI\\\\\\'m Chinese, so I\\\\\\'ve been to my fair share of Chinese restaurants and have experienced varying levels of service. This place took the cake. From beginning to end, the server was rude, rolling her eyes, and unapproachable. \\\\n\\\\nCome time for the bill, my friend and I made a conscious decision to not pay tip. We were however convinced to leave something so with great resistance we added $3.00 on top of a $115.00 bill. Yes I know this is nothing. In hind sight I think it would\\\\\\'ve been better to not tip at all.\\\\n\\\\nThe server comes around, takes the bill and in front of us starts counting. She looks at us and says in Cantonese \"it\\\\\\'s typical to pay 10% tip\", and we asked \"is there a minimum for tip?\". My friend then adds \"We didn\\\\\\'t appreciate your attitude, I don\\\\\\'t think this warranted a tip\". The server scoffs and says \"whatever you say\". And then stands by the cash and throws a tantrum. I\\\\\\'ve always been kind to servers, and have always tipped appropriately. This time was an exception. You\\\\\\'ve been warned. There\\\\\\'s better bbq and most definitely better service elsewhere.\\''"
      ]
     },
     "execution_count": 27,
     "metadata": {},
     "output_type": "execute_result"
    }
   ],
   "source": [
    "# example of one business review \n",
    "df_review_agg[1]"
   ]
  },
  {
   "cell_type": "code",
   "execution_count": 28,
   "metadata": {},
   "outputs": [],
   "source": [
    "# afther the aggregate function we have a Series\n",
    "# df2 represents an intermediate dataframe to be merged with business\n",
    "df2 = pd.DataFrame({'business_id':df_review_agg.index, 'all_reviews':df_review_agg.values})"
   ]
  },
  {
   "cell_type": "code",
   "execution_count": 29,
   "metadata": {},
   "outputs": [
    {
     "data": {
      "text/html": [
       "<div>\n",
       "<style scoped>\n",
       "    .dataframe tbody tr th:only-of-type {\n",
       "        vertical-align: middle;\n",
       "    }\n",
       "\n",
       "    .dataframe tbody tr th {\n",
       "        vertical-align: top;\n",
       "    }\n",
       "\n",
       "    .dataframe thead th {\n",
       "        text-align: right;\n",
       "    }\n",
       "</style>\n",
       "<table border=\"1\" class=\"dataframe\">\n",
       "  <thead>\n",
       "    <tr style=\"text-align: right;\">\n",
       "      <th></th>\n",
       "      <th>business_id</th>\n",
       "      <th>all_reviews</th>\n",
       "      <th>name</th>\n",
       "      <th>address</th>\n",
       "      <th>city</th>\n",
       "      <th>state</th>\n",
       "      <th>postal_code</th>\n",
       "      <th>latitude</th>\n",
       "      <th>longitude</th>\n",
       "      <th>stars</th>\n",
       "      <th>review_count</th>\n",
       "      <th>is_open</th>\n",
       "      <th>attributes</th>\n",
       "      <th>categories</th>\n",
       "      <th>hours</th>\n",
       "    </tr>\n",
       "  </thead>\n",
       "  <tbody>\n",
       "    <tr>\n",
       "      <td>0</td>\n",
       "      <td>--1UhMGODdWsrMastO9DZw</td>\n",
       "      <td>b'If you are looking for authentic Mexican str...</td>\n",
       "      <td>The Spicy Amigos</td>\n",
       "      <td>821 4 Avenue SW</td>\n",
       "      <td>Calgary</td>\n",
       "      <td>AB</td>\n",
       "      <td>T2P 0K5</td>\n",
       "      <td>51.049673</td>\n",
       "      <td>-114.079977</td>\n",
       "      <td>4.0</td>\n",
       "      <td>24</td>\n",
       "      <td>1</td>\n",
       "      <td>{'BusinessParking': '{'garage': False, 'street...</td>\n",
       "      <td>Restaurants, Mexican</td>\n",
       "      <td>{'Monday': '11:0-20:0', 'Tuesday': '11:0-20:0'...</td>\n",
       "    </tr>\n",
       "    <tr>\n",
       "      <td>1</td>\n",
       "      <td>--6MefnULPED_I942VcFNA</td>\n",
       "      <td>b\"They have the best Chinese BBQ Pork (Char Si...</td>\n",
       "      <td>John's Chinese BBQ Restaurant</td>\n",
       "      <td>328 Highway 7 E, Chalmers Gate 11, Unit 10</td>\n",
       "      <td>Richmond Hill</td>\n",
       "      <td>ON</td>\n",
       "      <td>L4B 3P7</td>\n",
       "      <td>43.841694</td>\n",
       "      <td>-79.399755</td>\n",
       "      <td>3.0</td>\n",
       "      <td>44</td>\n",
       "      <td>1</td>\n",
       "      <td>{'BusinessParking': '{'garage': False, 'street...</td>\n",
       "      <td>Chinese, Restaurants</td>\n",
       "      <td>{'Monday': '11:0-22:30', 'Tuesday': '11:0-22:3...</td>\n",
       "    </tr>\n",
       "    <tr>\n",
       "      <td>2</td>\n",
       "      <td>--7zmmkVg-IMGaXbuVd0SQ</td>\n",
       "      <td>b\"I'm a tad reluctant to write a review as I r...</td>\n",
       "      <td>Primal Brewery</td>\n",
       "      <td>16432 Old Statesville Rd</td>\n",
       "      <td>Huntersville</td>\n",
       "      <td>NC</td>\n",
       "      <td>28078</td>\n",
       "      <td>35.437106</td>\n",
       "      <td>-80.843688</td>\n",
       "      <td>4.0</td>\n",
       "      <td>58</td>\n",
       "      <td>1</td>\n",
       "      <td>{'BikeParking': 'True', 'RestaurantsPriceRange...</td>\n",
       "      <td>Breweries, Food</td>\n",
       "      <td>{'Monday': '16:0-22:0', 'Tuesday': '16:0-22:0'...</td>\n",
       "    </tr>\n",
       "    <tr>\n",
       "      <td>3</td>\n",
       "      <td>--8LPVSo5i0Oo61X01sV9A</td>\n",
       "      <td>b'Dr. LaCognata is great.  He is a great liste...</td>\n",
       "      <td>Valley Bone and Joint Specialists</td>\n",
       "      <td>3941 E Baseline Rd, Ste 102</td>\n",
       "      <td>Gilbert</td>\n",
       "      <td>AZ</td>\n",
       "      <td>85234</td>\n",
       "      <td>33.378589</td>\n",
       "      <td>-111.748145</td>\n",
       "      <td>3.5</td>\n",
       "      <td>4</td>\n",
       "      <td>1</td>\n",
       "      <td>{'BusinessAcceptsCreditCards': 'True', 'ByAppo...</td>\n",
       "      <td>Orthopedists, Doctors, Sports Medicine, Weight...</td>\n",
       "      <td>{'Monday': '8:30-16:30', 'Tuesday': '8:30-16:3...</td>\n",
       "    </tr>\n",
       "    <tr>\n",
       "      <td>4</td>\n",
       "      <td>--9QQLMTbFzLJ_oT-ON3Xw</td>\n",
       "      <td>b'Always great customer service. Affordable ha...</td>\n",
       "      <td>Great Clips</td>\n",
       "      <td>1835 E Guadalupe Rd, Ste 106</td>\n",
       "      <td>Tempe</td>\n",
       "      <td>AZ</td>\n",
       "      <td>85283</td>\n",
       "      <td>33.362813</td>\n",
       "      <td>-111.908995</td>\n",
       "      <td>3.5</td>\n",
       "      <td>12</td>\n",
       "      <td>1</td>\n",
       "      <td>{'BusinessAcceptsCreditCards': 'True', 'ByAppo...</td>\n",
       "      <td>Beauty &amp; Spas, Hair Salons</td>\n",
       "      <td>None</td>\n",
       "    </tr>\n",
       "  </tbody>\n",
       "</table>\n",
       "</div>"
      ],
      "text/plain": [
       "              business_id                                        all_reviews  \\\n",
       "0  --1UhMGODdWsrMastO9DZw  b'If you are looking for authentic Mexican str...   \n",
       "1  --6MefnULPED_I942VcFNA  b\"They have the best Chinese BBQ Pork (Char Si...   \n",
       "2  --7zmmkVg-IMGaXbuVd0SQ  b\"I'm a tad reluctant to write a review as I r...   \n",
       "3  --8LPVSo5i0Oo61X01sV9A  b'Dr. LaCognata is great.  He is a great liste...   \n",
       "4  --9QQLMTbFzLJ_oT-ON3Xw  b'Always great customer service. Affordable ha...   \n",
       "\n",
       "                                name  \\\n",
       "0                   The Spicy Amigos   \n",
       "1      John's Chinese BBQ Restaurant   \n",
       "2                     Primal Brewery   \n",
       "3  Valley Bone and Joint Specialists   \n",
       "4                        Great Clips   \n",
       "\n",
       "                                      address           city state  \\\n",
       "0                             821 4 Avenue SW        Calgary    AB   \n",
       "1  328 Highway 7 E, Chalmers Gate 11, Unit 10  Richmond Hill    ON   \n",
       "2                    16432 Old Statesville Rd   Huntersville    NC   \n",
       "3                 3941 E Baseline Rd, Ste 102        Gilbert    AZ   \n",
       "4                1835 E Guadalupe Rd, Ste 106          Tempe    AZ   \n",
       "\n",
       "  postal_code   latitude   longitude  stars  review_count  is_open  \\\n",
       "0     T2P 0K5  51.049673 -114.079977    4.0            24        1   \n",
       "1     L4B 3P7  43.841694  -79.399755    3.0            44        1   \n",
       "2       28078  35.437106  -80.843688    4.0            58        1   \n",
       "3       85234  33.378589 -111.748145    3.5             4        1   \n",
       "4       85283  33.362813 -111.908995    3.5            12        1   \n",
       "\n",
       "                                          attributes  \\\n",
       "0  {'BusinessParking': '{'garage': False, 'street...   \n",
       "1  {'BusinessParking': '{'garage': False, 'street...   \n",
       "2  {'BikeParking': 'True', 'RestaurantsPriceRange...   \n",
       "3  {'BusinessAcceptsCreditCards': 'True', 'ByAppo...   \n",
       "4  {'BusinessAcceptsCreditCards': 'True', 'ByAppo...   \n",
       "\n",
       "                                          categories  \\\n",
       "0                               Restaurants, Mexican   \n",
       "1                               Chinese, Restaurants   \n",
       "2                                    Breweries, Food   \n",
       "3  Orthopedists, Doctors, Sports Medicine, Weight...   \n",
       "4                         Beauty & Spas, Hair Salons   \n",
       "\n",
       "                                               hours  \n",
       "0  {'Monday': '11:0-20:0', 'Tuesday': '11:0-20:0'...  \n",
       "1  {'Monday': '11:0-22:30', 'Tuesday': '11:0-22:3...  \n",
       "2  {'Monday': '16:0-22:0', 'Tuesday': '16:0-22:0'...  \n",
       "3  {'Monday': '8:30-16:30', 'Tuesday': '8:30-16:3...  \n",
       "4                                               None  "
      ]
     },
     "execution_count": 29,
     "metadata": {},
     "output_type": "execute_result"
    }
   ],
   "source": [
    "# now that I have two data frames I want to merge them together\n",
    "# the resulting data frame will have all the information we need\n",
    "df_merge=pd.merge(df2, business,on='business_id')\n",
    "df_merge.head()"
   ]
  },
  {
   "cell_type": "code",
   "execution_count": 84,
   "metadata": {},
   "outputs": [
    {
     "data": {
      "text/plain": [
       "'/Users/austinwilson/Desktop/CSUS/180/mini'"
      ]
     },
     "execution_count": 84,
     "metadata": {},
     "output_type": "execute_result"
    }
   ],
   "source": [
    "%pwd"
   ]
  },
  {
   "cell_type": "code",
   "execution_count": 88,
   "metadata": {},
   "outputs": [],
   "source": [
    "df_merge.to_excel('data.xlsx')"
   ]
  },
  {
   "cell_type": "code",
   "execution_count": 83,
   "metadata": {},
   "outputs": [
    {
     "data": {
      "text/html": [
       "<div>\n",
       "<style scoped>\n",
       "    .dataframe tbody tr th:only-of-type {\n",
       "        vertical-align: middle;\n",
       "    }\n",
       "\n",
       "    .dataframe tbody tr th {\n",
       "        vertical-align: top;\n",
       "    }\n",
       "\n",
       "    .dataframe thead th {\n",
       "        text-align: right;\n",
       "    }\n",
       "</style>\n",
       "<table border=\"1\" class=\"dataframe\">\n",
       "  <thead>\n",
       "    <tr style=\"text-align: right;\">\n",
       "      <th></th>\n",
       "      <th>business_id</th>\n",
       "      <th>all_reviews</th>\n",
       "      <th>name</th>\n",
       "      <th>address</th>\n",
       "      <th>city</th>\n",
       "      <th>state</th>\n",
       "      <th>postal_code</th>\n",
       "      <th>latitude</th>\n",
       "      <th>longitude</th>\n",
       "      <th>stars</th>\n",
       "      <th>review_count</th>\n",
       "      <th>is_open</th>\n",
       "      <th>attributes</th>\n",
       "      <th>categories</th>\n",
       "      <th>hours</th>\n",
       "    </tr>\n",
       "  </thead>\n",
       "  <tbody>\n",
       "    <tr>\n",
       "      <td>0</td>\n",
       "      <td>--1UhMGODdWsrMastO9DZw</td>\n",
       "      <td>b'If you are looking for authentic Mexican str...</td>\n",
       "      <td>The Spicy Amigos</td>\n",
       "      <td>821 4 Avenue SW</td>\n",
       "      <td>Calgary</td>\n",
       "      <td>AB</td>\n",
       "      <td>T2P 0K5</td>\n",
       "      <td>51.049673</td>\n",
       "      <td>-114.079977</td>\n",
       "      <td>4.0</td>\n",
       "      <td>24</td>\n",
       "      <td>1</td>\n",
       "      <td>{'BusinessParking': '{'garage': False, 'street...</td>\n",
       "      <td>Restaurants, Mexican</td>\n",
       "      <td>{'Monday': '11:0-20:0', 'Tuesday': '11:0-20:0'...</td>\n",
       "    </tr>\n",
       "    <tr>\n",
       "      <td>1</td>\n",
       "      <td>--6MefnULPED_I942VcFNA</td>\n",
       "      <td>b\"They have the best Chinese BBQ Pork (Char Si...</td>\n",
       "      <td>John's Chinese BBQ Restaurant</td>\n",
       "      <td>328 Highway 7 E, Chalmers Gate 11, Unit 10</td>\n",
       "      <td>Richmond Hill</td>\n",
       "      <td>ON</td>\n",
       "      <td>L4B 3P7</td>\n",
       "      <td>43.841694</td>\n",
       "      <td>-79.399755</td>\n",
       "      <td>3.0</td>\n",
       "      <td>44</td>\n",
       "      <td>1</td>\n",
       "      <td>{'BusinessParking': '{'garage': False, 'street...</td>\n",
       "      <td>Chinese, Restaurants</td>\n",
       "      <td>{'Monday': '11:0-22:30', 'Tuesday': '11:0-22:3...</td>\n",
       "    </tr>\n",
       "    <tr>\n",
       "      <td>2</td>\n",
       "      <td>--7zmmkVg-IMGaXbuVd0SQ</td>\n",
       "      <td>b\"I'm a tad reluctant to write a review as I r...</td>\n",
       "      <td>Primal Brewery</td>\n",
       "      <td>16432 Old Statesville Rd</td>\n",
       "      <td>Huntersville</td>\n",
       "      <td>NC</td>\n",
       "      <td>28078</td>\n",
       "      <td>35.437106</td>\n",
       "      <td>-80.843688</td>\n",
       "      <td>4.0</td>\n",
       "      <td>58</td>\n",
       "      <td>1</td>\n",
       "      <td>{'BikeParking': 'True', 'RestaurantsPriceRange...</td>\n",
       "      <td>Breweries, Food</td>\n",
       "      <td>{'Monday': '16:0-22:0', 'Tuesday': '16:0-22:0'...</td>\n",
       "    </tr>\n",
       "    <tr>\n",
       "      <td>5</td>\n",
       "      <td>--9e1ONYQuAa-CB_Rrw7Tw</td>\n",
       "      <td>b'Very busy and noisy restaurant.\\nAsparagas w...</td>\n",
       "      <td>Delmonico Steakhouse</td>\n",
       "      <td>3355 Las Vegas Blvd S</td>\n",
       "      <td>Las Vegas</td>\n",
       "      <td>NV</td>\n",
       "      <td>89109</td>\n",
       "      <td>36.123183</td>\n",
       "      <td>-115.169190</td>\n",
       "      <td>4.0</td>\n",
       "      <td>1613</td>\n",
       "      <td>1</td>\n",
       "      <td>{'WiFi': 'u'no'', 'RestaurantsAttire': ''dress...</td>\n",
       "      <td>Cajun/Creole, Seafood, Steakhouses, Restaurants</td>\n",
       "      <td>{'Monday': '17:0-22:0', 'Tuesday': '17:0-22:0'...</td>\n",
       "    </tr>\n",
       "    <tr>\n",
       "      <td>6</td>\n",
       "      <td>--DaPTJW3-tB1vP-PfdTEg</td>\n",
       "      <td>b'My sister and in laws were in town and we wa...</td>\n",
       "      <td>Sunnyside Grill</td>\n",
       "      <td>1218 Saint Clair Avenue W</td>\n",
       "      <td>Toronto</td>\n",
       "      <td>ON</td>\n",
       "      <td>M6E</td>\n",
       "      <td>43.677807</td>\n",
       "      <td>-79.444674</td>\n",
       "      <td>3.5</td>\n",
       "      <td>49</td>\n",
       "      <td>1</td>\n",
       "      <td>{'RestaurantsDelivery': 'False', 'Ambience': '...</td>\n",
       "      <td>Restaurants, Breakfast &amp; Brunch</td>\n",
       "      <td>{'Monday': '7:0-15:0', 'Tuesday': '7:0-15:0', ...</td>\n",
       "    </tr>\n",
       "  </tbody>\n",
       "</table>\n",
       "</div>"
      ],
      "text/plain": [
       "              business_id                                        all_reviews  \\\n",
       "0  --1UhMGODdWsrMastO9DZw  b'If you are looking for authentic Mexican str...   \n",
       "1  --6MefnULPED_I942VcFNA  b\"They have the best Chinese BBQ Pork (Char Si...   \n",
       "2  --7zmmkVg-IMGaXbuVd0SQ  b\"I'm a tad reluctant to write a review as I r...   \n",
       "5  --9e1ONYQuAa-CB_Rrw7Tw  b'Very busy and noisy restaurant.\\nAsparagas w...   \n",
       "6  --DaPTJW3-tB1vP-PfdTEg  b'My sister and in laws were in town and we wa...   \n",
       "\n",
       "                            name                                     address  \\\n",
       "0               The Spicy Amigos                             821 4 Avenue SW   \n",
       "1  John's Chinese BBQ Restaurant  328 Highway 7 E, Chalmers Gate 11, Unit 10   \n",
       "2                 Primal Brewery                    16432 Old Statesville Rd   \n",
       "5           Delmonico Steakhouse                       3355 Las Vegas Blvd S   \n",
       "6                Sunnyside Grill                   1218 Saint Clair Avenue W   \n",
       "\n",
       "            city state postal_code   latitude   longitude  stars  \\\n",
       "0        Calgary    AB     T2P 0K5  51.049673 -114.079977    4.0   \n",
       "1  Richmond Hill    ON     L4B 3P7  43.841694  -79.399755    3.0   \n",
       "2   Huntersville    NC       28078  35.437106  -80.843688    4.0   \n",
       "5      Las Vegas    NV       89109  36.123183 -115.169190    4.0   \n",
       "6        Toronto    ON         M6E  43.677807  -79.444674    3.5   \n",
       "\n",
       "   review_count  is_open                                         attributes  \\\n",
       "0            24        1  {'BusinessParking': '{'garage': False, 'street...   \n",
       "1            44        1  {'BusinessParking': '{'garage': False, 'street...   \n",
       "2            58        1  {'BikeParking': 'True', 'RestaurantsPriceRange...   \n",
       "5          1613        1  {'WiFi': 'u'no'', 'RestaurantsAttire': ''dress...   \n",
       "6            49        1  {'RestaurantsDelivery': 'False', 'Ambience': '...   \n",
       "\n",
       "                                        categories  \\\n",
       "0                             Restaurants, Mexican   \n",
       "1                             Chinese, Restaurants   \n",
       "2                                  Breweries, Food   \n",
       "5  Cajun/Creole, Seafood, Steakhouses, Restaurants   \n",
       "6                  Restaurants, Breakfast & Brunch   \n",
       "\n",
       "                                               hours  \n",
       "0  {'Monday': '11:0-20:0', 'Tuesday': '11:0-20:0'...  \n",
       "1  {'Monday': '11:0-22:30', 'Tuesday': '11:0-22:3...  \n",
       "2  {'Monday': '16:0-22:0', 'Tuesday': '16:0-22:0'...  \n",
       "5  {'Monday': '17:0-22:0', 'Tuesday': '17:0-22:0'...  \n",
       "6  {'Monday': '7:0-15:0', 'Tuesday': '7:0-15:0', ...  "
      ]
     },
     "execution_count": 83,
     "metadata": {},
     "output_type": "execute_result"
    }
   ],
   "source": [
    "df_merge.head()"
   ]
  },
  {
   "cell_type": "code",
   "execution_count": 87,
   "metadata": {},
   "outputs": [],
   "source": [
    "# dropping all businesses that have less than 20 reviews (not normally distributed?)\n",
    "df_merge.drop(df_merge[df_merge['review_count']<20].index,inplace=True)"
   ]
  },
  {
   "cell_type": "code",
   "execution_count": 32,
   "metadata": {},
   "outputs": [
    {
     "data": {
      "text/plain": [
       "pandas.core.frame.DataFrame"
      ]
     },
     "execution_count": 32,
     "metadata": {},
     "output_type": "execute_result"
    }
   ],
   "source": [
    "type(df_merge[df_merge['state']=='CA'])"
   ]
  },
  {
   "cell_type": "code",
   "execution_count": 35,
   "metadata": {},
   "outputs": [
    {
     "data": {
      "text/html": [
       "<div>\n",
       "<style scoped>\n",
       "    .dataframe tbody tr th:only-of-type {\n",
       "        vertical-align: middle;\n",
       "    }\n",
       "\n",
       "    .dataframe tbody tr th {\n",
       "        vertical-align: top;\n",
       "    }\n",
       "\n",
       "    .dataframe thead th {\n",
       "        text-align: right;\n",
       "    }\n",
       "</style>\n",
       "<table border=\"1\" class=\"dataframe\">\n",
       "  <thead>\n",
       "    <tr style=\"text-align: right;\">\n",
       "      <th></th>\n",
       "      <th>business_id</th>\n",
       "      <th>all_reviews</th>\n",
       "      <th>name</th>\n",
       "      <th>address</th>\n",
       "      <th>city</th>\n",
       "      <th>state</th>\n",
       "      <th>postal_code</th>\n",
       "      <th>latitude</th>\n",
       "      <th>longitude</th>\n",
       "      <th>stars</th>\n",
       "      <th>review_count</th>\n",
       "      <th>is_open</th>\n",
       "      <th>attributes</th>\n",
       "      <th>categories</th>\n",
       "      <th>hours</th>\n",
       "    </tr>\n",
       "  </thead>\n",
       "  <tbody>\n",
       "    <tr>\n",
       "      <td>106592</td>\n",
       "      <td>YMeWjOd1svHDGdDCKoiGgg</td>\n",
       "      <td>b\"No massives on earth rock like EDC, and ther...</td>\n",
       "      <td>Electric Daisy Carnival</td>\n",
       "      <td>7000 N Las Vegas Blvd</td>\n",
       "      <td>Los Angeles</td>\n",
       "      <td>CA</td>\n",
       "      <td>90037</td>\n",
       "      <td>36.273260</td>\n",
       "      <td>-115.009430</td>\n",
       "      <td>4.5</td>\n",
       "      <td>36</td>\n",
       "      <td>0</td>\n",
       "      <td>{'OutdoorSeating': 'True', 'GoodForKids': 'Fal...</td>\n",
       "      <td>Local Flavor, Festivals, Arts &amp; Entertainment,...</td>\n",
       "      <td>None</td>\n",
       "    </tr>\n",
       "    <tr>\n",
       "      <td>149535</td>\n",
       "      <td>lfK_nFK50w2Gr6IMZviyIQ</td>\n",
       "      <td>b\"My sister in law gifted my mother in law and...</td>\n",
       "      <td>Sabai Beauty &amp; Wellness</td>\n",
       "      <td>16375 Monterey Rd, Ste E</td>\n",
       "      <td>Morgan Hill</td>\n",
       "      <td>CA</td>\n",
       "      <td>95037</td>\n",
       "      <td>33.310083</td>\n",
       "      <td>-111.897002</td>\n",
       "      <td>4.0</td>\n",
       "      <td>29</td>\n",
       "      <td>1</td>\n",
       "      <td>{'BusinessParking': '{'garage': False, 'street...</td>\n",
       "      <td>Waxing, Massage Therapy, Beauty &amp; Spas, Hair R...</td>\n",
       "      <td>{'Monday': '10:0-18:0', 'Tuesday': '10:0-18:0'...</td>\n",
       "    </tr>\n",
       "    <tr>\n",
       "      <td>152508</td>\n",
       "      <td>meK9y7zRVoN4uaf6sAC8KQ</td>\n",
       "      <td>b\"Friendly, decently priced, and my knives are...</td>\n",
       "      <td>Finest-Edge Precision Sharpening Service</td>\n",
       "      <td></td>\n",
       "      <td>Peninsula</td>\n",
       "      <td>CA</td>\n",
       "      <td>44264</td>\n",
       "      <td>41.241167</td>\n",
       "      <td>-81.552618</td>\n",
       "      <td>5.0</td>\n",
       "      <td>22</td>\n",
       "      <td>1</td>\n",
       "      <td>{'BusinessAcceptsCreditCards': 'True'}</td>\n",
       "      <td>Local Services, Knife Sharpening</td>\n",
       "      <td>None</td>\n",
       "    </tr>\n",
       "    <tr>\n",
       "      <td>157134</td>\n",
       "      <td>oBEFhUe7yEH1PK25bImCWA</td>\n",
       "      <td>b'Do NOT book Adam Brooks (Brooks Photography)...</td>\n",
       "      <td>Brooks Photography</td>\n",
       "      <td>4372 West Point Loma Blvd, Ste A</td>\n",
       "      <td>San Diego</td>\n",
       "      <td>CA</td>\n",
       "      <td>92107</td>\n",
       "      <td>36.175000</td>\n",
       "      <td>-115.136389</td>\n",
       "      <td>1.5</td>\n",
       "      <td>35</td>\n",
       "      <td>1</td>\n",
       "      <td>{'BusinessAcceptsCreditCards': 'True'}</td>\n",
       "      <td>Session Photography, Event Photography, Event ...</td>\n",
       "      <td>None</td>\n",
       "    </tr>\n",
       "  </tbody>\n",
       "</table>\n",
       "</div>"
      ],
      "text/plain": [
       "                   business_id  \\\n",
       "106592  YMeWjOd1svHDGdDCKoiGgg   \n",
       "149535  lfK_nFK50w2Gr6IMZviyIQ   \n",
       "152508  meK9y7zRVoN4uaf6sAC8KQ   \n",
       "157134  oBEFhUe7yEH1PK25bImCWA   \n",
       "\n",
       "                                              all_reviews  \\\n",
       "106592  b\"No massives on earth rock like EDC, and ther...   \n",
       "149535  b\"My sister in law gifted my mother in law and...   \n",
       "152508  b\"Friendly, decently priced, and my knives are...   \n",
       "157134  b'Do NOT book Adam Brooks (Brooks Photography)...   \n",
       "\n",
       "                                            name  \\\n",
       "106592                   Electric Daisy Carnival   \n",
       "149535                   Sabai Beauty & Wellness   \n",
       "152508  Finest-Edge Precision Sharpening Service   \n",
       "157134                        Brooks Photography   \n",
       "\n",
       "                                 address         city state postal_code  \\\n",
       "106592             7000 N Las Vegas Blvd  Los Angeles    CA       90037   \n",
       "149535          16375 Monterey Rd, Ste E  Morgan Hill    CA       95037   \n",
       "152508                                      Peninsula    CA       44264   \n",
       "157134  4372 West Point Loma Blvd, Ste A    San Diego    CA       92107   \n",
       "\n",
       "         latitude   longitude  stars  review_count  is_open  \\\n",
       "106592  36.273260 -115.009430    4.5            36        0   \n",
       "149535  33.310083 -111.897002    4.0            29        1   \n",
       "152508  41.241167  -81.552618    5.0            22        1   \n",
       "157134  36.175000 -115.136389    1.5            35        1   \n",
       "\n",
       "                                               attributes  \\\n",
       "106592  {'OutdoorSeating': 'True', 'GoodForKids': 'Fal...   \n",
       "149535  {'BusinessParking': '{'garage': False, 'street...   \n",
       "152508             {'BusinessAcceptsCreditCards': 'True'}   \n",
       "157134             {'BusinessAcceptsCreditCards': 'True'}   \n",
       "\n",
       "                                               categories  \\\n",
       "106592  Local Flavor, Festivals, Arts & Entertainment,...   \n",
       "149535  Waxing, Massage Therapy, Beauty & Spas, Hair R...   \n",
       "152508                   Local Services, Knife Sharpening   \n",
       "157134  Session Photography, Event Photography, Event ...   \n",
       "\n",
       "                                                    hours  \n",
       "106592                                               None  \n",
       "149535  {'Monday': '10:0-18:0', 'Tuesday': '10:0-18:0'...  \n",
       "152508                                               None  \n",
       "157134                                               None  "
      ]
     },
     "execution_count": 35,
     "metadata": {},
     "output_type": "execute_result"
    }
   ],
   "source": [
    "\n",
    "##  SUBSET DATA BY STATE!!!!!! \n",
    "\n",
    "\n",
    "df_ca = df_merge[df_merge['state'] == 'CA']\n",
    "df_ca"
   ]
  },
  {
   "cell_type": "code",
   "execution_count": 57,
   "metadata": {},
   "outputs": [
    {
     "data": {
      "text/plain": [
       "(14774, 15)"
      ]
     },
     "execution_count": 57,
     "metadata": {},
     "output_type": "execute_result"
    }
   ],
   "source": [
    "## Nevada \n",
    "\n",
    "df_nv = df_merge[df_merge['state'] == 'NV']\n",
    "df_nv.head()\n",
    "df_nv.shape"
   ]
  },
  {
   "cell_type": "code",
   "execution_count": 68,
   "metadata": {},
   "outputs": [
    {
     "data": {
      "text/html": [
       "<div>\n",
       "<style scoped>\n",
       "    .dataframe tbody tr th:only-of-type {\n",
       "        vertical-align: middle;\n",
       "    }\n",
       "\n",
       "    .dataframe tbody tr th {\n",
       "        vertical-align: top;\n",
       "    }\n",
       "\n",
       "    .dataframe thead th {\n",
       "        text-align: right;\n",
       "    }\n",
       "</style>\n",
       "<table border=\"1\" class=\"dataframe\">\n",
       "  <thead>\n",
       "    <tr style=\"text-align: right;\">\n",
       "      <th></th>\n",
       "      <th>business_id</th>\n",
       "      <th>all_reviews</th>\n",
       "      <th>name</th>\n",
       "      <th>address</th>\n",
       "      <th>city</th>\n",
       "      <th>state</th>\n",
       "      <th>postal_code</th>\n",
       "      <th>latitude</th>\n",
       "      <th>longitude</th>\n",
       "      <th>stars</th>\n",
       "      <th>review_count</th>\n",
       "      <th>is_open</th>\n",
       "      <th>attributes</th>\n",
       "      <th>categories</th>\n",
       "      <th>hours</th>\n",
       "    </tr>\n",
       "  </thead>\n",
       "  <tbody>\n",
       "    <tr>\n",
       "      <td>5</td>\n",
       "      <td>--9e1ONYQuAa-CB_Rrw7Tw</td>\n",
       "      <td>b'Very busy and noisy restaurant.\\nAsparagas w...</td>\n",
       "      <td>Delmonico Steakhouse</td>\n",
       "      <td>3355 Las Vegas Blvd S</td>\n",
       "      <td>Las Vegas</td>\n",
       "      <td>NV</td>\n",
       "      <td>89109</td>\n",
       "      <td>36.123183</td>\n",
       "      <td>-115.169190</td>\n",
       "      <td>4.0</td>\n",
       "      <td>1613</td>\n",
       "      <td>1</td>\n",
       "      <td>{'WiFi': 'u'no'', 'RestaurantsAttire': ''dress...</td>\n",
       "      <td>Cajun/Creole, Seafood, Steakhouses, Restaurants</td>\n",
       "      <td>{'Monday': '17:0-22:0', 'Tuesday': '17:0-22:0'...</td>\n",
       "    </tr>\n",
       "    <tr>\n",
       "      <td>10</td>\n",
       "      <td>--FBCX-N37CMYDfs790Bnw</td>\n",
       "      <td>b\"My husband and I live nearby and only stoppe...</td>\n",
       "      <td>The Bar At Bermuda &amp; St. Rose</td>\n",
       "      <td>11624 Bermuda Rd</td>\n",
       "      <td>Henderson</td>\n",
       "      <td>NV</td>\n",
       "      <td>89052</td>\n",
       "      <td>35.978679</td>\n",
       "      <td>-115.155057</td>\n",
       "      <td>4.0</td>\n",
       "      <td>135</td>\n",
       "      <td>1</td>\n",
       "      <td>{'OutdoorSeating': 'False', 'RestaurantsDelive...</td>\n",
       "      <td>Nightlife, Beer, Wine &amp; Spirits, Bars, Restaur...</td>\n",
       "      <td>{'Monday': '0:0-0:0', 'Tuesday': '0:0-0:0', 'W...</td>\n",
       "    </tr>\n",
       "    <tr>\n",
       "      <td>31</td>\n",
       "      <td>--e8PjCNhEz32pprnPhCwQ</td>\n",
       "      <td>b\"I love this place! Don't take my Coco anywhe...</td>\n",
       "      <td>Lucky's Pet Grooming &amp; Boutique</td>\n",
       "      <td>1460 E Charleston Blvd</td>\n",
       "      <td>Las Vegas</td>\n",
       "      <td>NV</td>\n",
       "      <td>89104</td>\n",
       "      <td>36.158851</td>\n",
       "      <td>-115.133272</td>\n",
       "      <td>3.0</td>\n",
       "      <td>29</td>\n",
       "      <td>1</td>\n",
       "      <td>None</td>\n",
       "      <td>Pet Services, Pets, Pet Stores, Pet Groomers</td>\n",
       "      <td>{'Monday': '9:0-17:0', 'Tuesday': '9:0-17:0', ...</td>\n",
       "    </tr>\n",
       "    <tr>\n",
       "      <td>48</td>\n",
       "      <td>--z7PM8AGaJP0aBmGMY7RA</td>\n",
       "      <td>b\"Nacho is the most reliable and honest mechan...</td>\n",
       "      <td>Nacho Mobile Auto Repair</td>\n",
       "      <td>2954 Westwood Dr</td>\n",
       "      <td>Las Vegas</td>\n",
       "      <td>NV</td>\n",
       "      <td>89109</td>\n",
       "      <td>36.135709</td>\n",
       "      <td>-115.175700</td>\n",
       "      <td>5.0</td>\n",
       "      <td>24</td>\n",
       "      <td>1</td>\n",
       "      <td>{'BusinessAcceptsCreditCards': 'True'}</td>\n",
       "      <td>Auto Repair, Automotive</td>\n",
       "      <td>{'Monday': '7:30-18:0', 'Tuesday': '7:30-18:0'...</td>\n",
       "    </tr>\n",
       "    <tr>\n",
       "      <td>57</td>\n",
       "      <td>-0BxAGlIk5DJAGVkpqBXxg</td>\n",
       "      <td>b\"Kosher... for those who care. The cafe is 24...</td>\n",
       "      <td>The Coffee Bean &amp; Tea Leaf</td>\n",
       "      <td>3355 Las Vegas Blvd S</td>\n",
       "      <td>Las Vegas</td>\n",
       "      <td>NV</td>\n",
       "      <td>89162</td>\n",
       "      <td>36.122935</td>\n",
       "      <td>-115.168528</td>\n",
       "      <td>3.0</td>\n",
       "      <td>44</td>\n",
       "      <td>1</td>\n",
       "      <td>{'RestaurantsPriceRange2': '2', 'BusinessAccep...</td>\n",
       "      <td>Food, Restaurants, Coffee &amp; Tea</td>\n",
       "      <td>None</td>\n",
       "    </tr>\n",
       "  </tbody>\n",
       "</table>\n",
       "</div>"
      ],
      "text/plain": [
       "               business_id                                        all_reviews  \\\n",
       "5   --9e1ONYQuAa-CB_Rrw7Tw  b'Very busy and noisy restaurant.\\nAsparagas w...   \n",
       "10  --FBCX-N37CMYDfs790Bnw  b\"My husband and I live nearby and only stoppe...   \n",
       "31  --e8PjCNhEz32pprnPhCwQ  b\"I love this place! Don't take my Coco anywhe...   \n",
       "48  --z7PM8AGaJP0aBmGMY7RA  b\"Nacho is the most reliable and honest mechan...   \n",
       "57  -0BxAGlIk5DJAGVkpqBXxg  b\"Kosher... for those who care. The cafe is 24...   \n",
       "\n",
       "                               name                 address       city state  \\\n",
       "5              Delmonico Steakhouse   3355 Las Vegas Blvd S  Las Vegas    NV   \n",
       "10    The Bar At Bermuda & St. Rose        11624 Bermuda Rd  Henderson    NV   \n",
       "31  Lucky's Pet Grooming & Boutique  1460 E Charleston Blvd  Las Vegas    NV   \n",
       "48         Nacho Mobile Auto Repair        2954 Westwood Dr  Las Vegas    NV   \n",
       "57       The Coffee Bean & Tea Leaf   3355 Las Vegas Blvd S  Las Vegas    NV   \n",
       "\n",
       "   postal_code   latitude   longitude  stars  review_count  is_open  \\\n",
       "5        89109  36.123183 -115.169190    4.0          1613        1   \n",
       "10       89052  35.978679 -115.155057    4.0           135        1   \n",
       "31       89104  36.158851 -115.133272    3.0            29        1   \n",
       "48       89109  36.135709 -115.175700    5.0            24        1   \n",
       "57       89162  36.122935 -115.168528    3.0            44        1   \n",
       "\n",
       "                                           attributes  \\\n",
       "5   {'WiFi': 'u'no'', 'RestaurantsAttire': ''dress...   \n",
       "10  {'OutdoorSeating': 'False', 'RestaurantsDelive...   \n",
       "31                                               None   \n",
       "48             {'BusinessAcceptsCreditCards': 'True'}   \n",
       "57  {'RestaurantsPriceRange2': '2', 'BusinessAccep...   \n",
       "\n",
       "                                           categories  \\\n",
       "5     Cajun/Creole, Seafood, Steakhouses, Restaurants   \n",
       "10  Nightlife, Beer, Wine & Spirits, Bars, Restaur...   \n",
       "31       Pet Services, Pets, Pet Stores, Pet Groomers   \n",
       "48                            Auto Repair, Automotive   \n",
       "57                    Food, Restaurants, Coffee & Tea   \n",
       "\n",
       "                                                hours  \n",
       "5   {'Monday': '17:0-22:0', 'Tuesday': '17:0-22:0'...  \n",
       "10  {'Monday': '0:0-0:0', 'Tuesday': '0:0-0:0', 'W...  \n",
       "31  {'Monday': '9:0-17:0', 'Tuesday': '9:0-17:0', ...  \n",
       "48  {'Monday': '7:30-18:0', 'Tuesday': '7:30-18:0'...  \n",
       "57                                               None  "
      ]
     },
     "execution_count": 68,
     "metadata": {},
     "output_type": "execute_result"
    }
   ],
   "source": [
    "df_nv.head()"
   ]
  },
  {
   "cell_type": "code",
   "execution_count": 69,
   "metadata": {},
   "outputs": [
    {
     "data": {
      "text/plain": [
       "(14774, 15)"
      ]
     },
     "execution_count": 69,
     "metadata": {},
     "output_type": "execute_result"
    }
   ],
   "source": [
    "df_nv.shape"
   ]
  },
  {
   "cell_type": "code",
   "execution_count": 60,
   "metadata": {},
   "outputs": [
    {
     "data": {
      "text/plain": [
       "array(['Las Vegas', 'Henderson', 'North Las Vegas', 'Summerlin',\n",
       "       'Enterprise', 'Boulder City', 'LAS VEGAS',\n",
       "       'Henderson (Green Valley)', 'N Las Vegas', 'C Las Vegas',\n",
       "       'henderson', 'Clark', 'Central Henderson', 'Las  Vegas', 'Sunrise',\n",
       "       'N W Las Vegas', 'Paradise', 'HENDERSON', 'Las Vegas & Henderson',\n",
       "       'Blue Diamond', 'Spring Valley', 'South Las Vegas',\n",
       "       'Centennial Hills', 'las vegas', '110 Las Vegas', 'Las vegas',\n",
       "       'N E Las Vegas', 'Henderston', 'N. Las Vegas', 'NELLIS AFB',\n",
       "       'Las Vegas East', 'City Center', 'LasVegas', 'Nellis AFB',\n",
       "       'W Spring Valley', 'Seven Hills', 'boulder city', 'Las Vegas ',\n",
       "       'W Henderson', 'Vegas', 'NORTH LAS VEGAS'], dtype=object)"
      ]
     },
     "execution_count": 60,
     "metadata": {},
     "output_type": "execute_result"
    }
   ],
   "source": [
    "df_nv.city.unique()"
   ]
  },
  {
   "cell_type": "code",
   "execution_count": 65,
   "metadata": {},
   "outputs": [
    {
     "data": {
      "text/plain": [
       "(0, 15)"
      ]
     },
     "execution_count": 65,
     "metadata": {},
     "output_type": "execute_result"
    }
   ],
   "source": [
    "# Arizona\n",
    "\n",
    "df_az = df_merge[df_merge['state']=='AZ']\n",
    "df_nm.shape"
   ]
  },
  {
   "cell_type": "code",
   "execution_count": 67,
   "metadata": {},
   "outputs": [
    {
     "data": {
      "text/plain": [
       "(18610,)"
      ]
     },
     "execution_count": 67,
     "metadata": {},
     "output_type": "execute_result"
    }
   ],
   "source": [
    "df_az.all_reviews.shape"
   ]
  },
  {
   "cell_type": "code",
   "execution_count": 63,
   "metadata": {},
   "outputs": [
    {
     "data": {
      "text/html": [
       "<div>\n",
       "<style scoped>\n",
       "    .dataframe tbody tr th:only-of-type {\n",
       "        vertical-align: middle;\n",
       "    }\n",
       "\n",
       "    .dataframe tbody tr th {\n",
       "        vertical-align: top;\n",
       "    }\n",
       "\n",
       "    .dataframe thead th {\n",
       "        text-align: right;\n",
       "    }\n",
       "</style>\n",
       "<table border=\"1\" class=\"dataframe\">\n",
       "  <thead>\n",
       "    <tr style=\"text-align: right;\">\n",
       "      <th></th>\n",
       "      <th>latitude</th>\n",
       "      <th>longitude</th>\n",
       "      <th>stars</th>\n",
       "      <th>review_count</th>\n",
       "      <th>is_open</th>\n",
       "    </tr>\n",
       "  </thead>\n",
       "  <tbody>\n",
       "    <tr>\n",
       "      <td>count</td>\n",
       "      <td>0.0</td>\n",
       "      <td>0.0</td>\n",
       "      <td>0.0</td>\n",
       "      <td>0.0</td>\n",
       "      <td>0.0</td>\n",
       "    </tr>\n",
       "    <tr>\n",
       "      <td>mean</td>\n",
       "      <td>NaN</td>\n",
       "      <td>NaN</td>\n",
       "      <td>NaN</td>\n",
       "      <td>NaN</td>\n",
       "      <td>NaN</td>\n",
       "    </tr>\n",
       "    <tr>\n",
       "      <td>std</td>\n",
       "      <td>NaN</td>\n",
       "      <td>NaN</td>\n",
       "      <td>NaN</td>\n",
       "      <td>NaN</td>\n",
       "      <td>NaN</td>\n",
       "    </tr>\n",
       "    <tr>\n",
       "      <td>min</td>\n",
       "      <td>NaN</td>\n",
       "      <td>NaN</td>\n",
       "      <td>NaN</td>\n",
       "      <td>NaN</td>\n",
       "      <td>NaN</td>\n",
       "    </tr>\n",
       "    <tr>\n",
       "      <td>25%</td>\n",
       "      <td>NaN</td>\n",
       "      <td>NaN</td>\n",
       "      <td>NaN</td>\n",
       "      <td>NaN</td>\n",
       "      <td>NaN</td>\n",
       "    </tr>\n",
       "    <tr>\n",
       "      <td>50%</td>\n",
       "      <td>NaN</td>\n",
       "      <td>NaN</td>\n",
       "      <td>NaN</td>\n",
       "      <td>NaN</td>\n",
       "      <td>NaN</td>\n",
       "    </tr>\n",
       "    <tr>\n",
       "      <td>75%</td>\n",
       "      <td>NaN</td>\n",
       "      <td>NaN</td>\n",
       "      <td>NaN</td>\n",
       "      <td>NaN</td>\n",
       "      <td>NaN</td>\n",
       "    </tr>\n",
       "    <tr>\n",
       "      <td>max</td>\n",
       "      <td>NaN</td>\n",
       "      <td>NaN</td>\n",
       "      <td>NaN</td>\n",
       "      <td>NaN</td>\n",
       "      <td>NaN</td>\n",
       "    </tr>\n",
       "  </tbody>\n",
       "</table>\n",
       "</div>"
      ],
      "text/plain": [
       "       latitude  longitude  stars  review_count  is_open\n",
       "count       0.0        0.0    0.0           0.0      0.0\n",
       "mean        NaN        NaN    NaN           NaN      NaN\n",
       "std         NaN        NaN    NaN           NaN      NaN\n",
       "min         NaN        NaN    NaN           NaN      NaN\n",
       "25%         NaN        NaN    NaN           NaN      NaN\n",
       "50%         NaN        NaN    NaN           NaN      NaN\n",
       "75%         NaN        NaN    NaN           NaN      NaN\n",
       "max         NaN        NaN    NaN           NaN      NaN"
      ]
     },
     "execution_count": 63,
     "metadata": {},
     "output_type": "execute_result"
    }
   ],
   "source": [
    "df_nm.describe()"
   ]
  },
  {
   "cell_type": "code",
   "execution_count": 78,
   "metadata": {},
   "outputs": [],
   "source": [
    "# North Carolina\n",
    "\n",
    "df_nc = df_merge[df_merge['state']=='NC']"
   ]
  },
  {
   "cell_type": "code",
   "execution_count": 79,
   "metadata": {},
   "outputs": [
    {
     "data": {
      "text/html": [
       "<div>\n",
       "<style scoped>\n",
       "    .dataframe tbody tr th:only-of-type {\n",
       "        vertical-align: middle;\n",
       "    }\n",
       "\n",
       "    .dataframe tbody tr th {\n",
       "        vertical-align: top;\n",
       "    }\n",
       "\n",
       "    .dataframe thead th {\n",
       "        text-align: right;\n",
       "    }\n",
       "</style>\n",
       "<table border=\"1\" class=\"dataframe\">\n",
       "  <thead>\n",
       "    <tr style=\"text-align: right;\">\n",
       "      <th></th>\n",
       "      <th>business_id</th>\n",
       "      <th>all_reviews</th>\n",
       "      <th>name</th>\n",
       "      <th>address</th>\n",
       "      <th>city</th>\n",
       "      <th>state</th>\n",
       "      <th>postal_code</th>\n",
       "      <th>latitude</th>\n",
       "      <th>longitude</th>\n",
       "      <th>stars</th>\n",
       "      <th>review_count</th>\n",
       "      <th>is_open</th>\n",
       "      <th>attributes</th>\n",
       "      <th>categories</th>\n",
       "      <th>hours</th>\n",
       "    </tr>\n",
       "  </thead>\n",
       "  <tbody>\n",
       "    <tr>\n",
       "      <td>2</td>\n",
       "      <td>--7zmmkVg-IMGaXbuVd0SQ</td>\n",
       "      <td>b\"I'm a tad reluctant to write a review as I r...</td>\n",
       "      <td>Primal Brewery</td>\n",
       "      <td>16432 Old Statesville Rd</td>\n",
       "      <td>Huntersville</td>\n",
       "      <td>NC</td>\n",
       "      <td>28078</td>\n",
       "      <td>35.437106</td>\n",
       "      <td>-80.843688</td>\n",
       "      <td>4.0</td>\n",
       "      <td>58</td>\n",
       "      <td>1</td>\n",
       "      <td>{'BikeParking': 'True', 'RestaurantsPriceRange...</td>\n",
       "      <td>Breweries, Food</td>\n",
       "      <td>{'Monday': '16:0-22:0', 'Tuesday': '16:0-22:0'...</td>\n",
       "    </tr>\n",
       "    <tr>\n",
       "      <td>28</td>\n",
       "      <td>--cZ6Hhc9F7VkKXxHMVZSQ</td>\n",
       "      <td>b'Food was good. Got the #20 lunch combo. At f...</td>\n",
       "      <td>Pio Pio</td>\n",
       "      <td>1408 E Blvd</td>\n",
       "      <td>Charlotte</td>\n",
       "      <td>NC</td>\n",
       "      <td>28203</td>\n",
       "      <td>35.199853</td>\n",
       "      <td>-80.844820</td>\n",
       "      <td>4.0</td>\n",
       "      <td>346</td>\n",
       "      <td>1</td>\n",
       "      <td>{'RestaurantsDelivery': 'True', 'Alcohol': 'u'...</td>\n",
       "      <td>Restaurants, Spanish, Peruvian, Colombian, Lat...</td>\n",
       "      <td>{'Monday': '11:0-22:0', 'Tuesday': '11:0-22:0'...</td>\n",
       "    </tr>\n",
       "    <tr>\n",
       "      <td>188</td>\n",
       "      <td>-2pQf1ceDZyE2ReCNbj-3A</td>\n",
       "      <td>b\"I love Just Fresh, I've been to different lo...</td>\n",
       "      <td>Just Fresh</td>\n",
       "      <td>14136 Rivergate Pkwy</td>\n",
       "      <td>Charlotte</td>\n",
       "      <td>NC</td>\n",
       "      <td>28273</td>\n",
       "      <td>35.102031</td>\n",
       "      <td>-80.985337</td>\n",
       "      <td>3.5</td>\n",
       "      <td>61</td>\n",
       "      <td>1</td>\n",
       "      <td>{'Ambience': '{'romantic': False, 'intimate': ...</td>\n",
       "      <td>American (Traditional), Breakfast &amp; Brunch, Fo...</td>\n",
       "      <td>{'Monday': '11:0-21:0', 'Tuesday': '11:0-21:0'...</td>\n",
       "    </tr>\n",
       "    <tr>\n",
       "      <td>189</td>\n",
       "      <td>-2pmn-oTJeybmDrL-ojwrw</td>\n",
       "      <td>b\"These guys are great. I try and stay as obje...</td>\n",
       "      <td>New Wrap Order</td>\n",
       "      <td></td>\n",
       "      <td>Charlotte</td>\n",
       "      <td>NC</td>\n",
       "      <td>28211</td>\n",
       "      <td>35.166003</td>\n",
       "      <td>-80.793480</td>\n",
       "      <td>4.5</td>\n",
       "      <td>21</td>\n",
       "      <td>1</td>\n",
       "      <td>{'RestaurantsReservations': 'False', 'Restaura...</td>\n",
       "      <td>Food Trucks, Wraps, Food, Street Vendors, Rest...</td>\n",
       "      <td>{'Monday': '0:0-0:0', 'Tuesday': '9:0-17:0', '...</td>\n",
       "    </tr>\n",
       "    <tr>\n",
       "      <td>299</td>\n",
       "      <td>-5KBZ3UmQzW_PkrjHGMuUg</td>\n",
       "      <td>b\"I've now stayed at this place for two separa...</td>\n",
       "      <td>Econo Lodge Inn &amp; Suites Airport</td>\n",
       "      <td>3415 Queen City Drive</td>\n",
       "      <td>Charlotte</td>\n",
       "      <td>NC</td>\n",
       "      <td>28208</td>\n",
       "      <td>35.239875</td>\n",
       "      <td>-80.922149</td>\n",
       "      <td>2.5</td>\n",
       "      <td>32</td>\n",
       "      <td>1</td>\n",
       "      <td>{'BusinessAcceptsCreditCards': 'True', 'Restau...</td>\n",
       "      <td>Event Planning &amp; Services, Hotels &amp; Travel, Ho...</td>\n",
       "      <td>{'Monday': '0:0-0:0', 'Tuesday': '0:0-0:0', 'W...</td>\n",
       "    </tr>\n",
       "  </tbody>\n",
       "</table>\n",
       "</div>"
      ],
      "text/plain": [
       "                business_id  \\\n",
       "2    --7zmmkVg-IMGaXbuVd0SQ   \n",
       "28   --cZ6Hhc9F7VkKXxHMVZSQ   \n",
       "188  -2pQf1ceDZyE2ReCNbj-3A   \n",
       "189  -2pmn-oTJeybmDrL-ojwrw   \n",
       "299  -5KBZ3UmQzW_PkrjHGMuUg   \n",
       "\n",
       "                                           all_reviews  \\\n",
       "2    b\"I'm a tad reluctant to write a review as I r...   \n",
       "28   b'Food was good. Got the #20 lunch combo. At f...   \n",
       "188  b\"I love Just Fresh, I've been to different lo...   \n",
       "189  b\"These guys are great. I try and stay as obje...   \n",
       "299  b\"I've now stayed at this place for two separa...   \n",
       "\n",
       "                                 name                   address          city  \\\n",
       "2                      Primal Brewery  16432 Old Statesville Rd  Huntersville   \n",
       "28                            Pio Pio               1408 E Blvd     Charlotte   \n",
       "188                        Just Fresh      14136 Rivergate Pkwy     Charlotte   \n",
       "189                    New Wrap Order                               Charlotte   \n",
       "299  Econo Lodge Inn & Suites Airport     3415 Queen City Drive     Charlotte   \n",
       "\n",
       "    state postal_code   latitude  longitude  stars  review_count  is_open  \\\n",
       "2      NC       28078  35.437106 -80.843688    4.0            58        1   \n",
       "28     NC       28203  35.199853 -80.844820    4.0           346        1   \n",
       "188    NC       28273  35.102031 -80.985337    3.5            61        1   \n",
       "189    NC       28211  35.166003 -80.793480    4.5            21        1   \n",
       "299    NC       28208  35.239875 -80.922149    2.5            32        1   \n",
       "\n",
       "                                            attributes  \\\n",
       "2    {'BikeParking': 'True', 'RestaurantsPriceRange...   \n",
       "28   {'RestaurantsDelivery': 'True', 'Alcohol': 'u'...   \n",
       "188  {'Ambience': '{'romantic': False, 'intimate': ...   \n",
       "189  {'RestaurantsReservations': 'False', 'Restaura...   \n",
       "299  {'BusinessAcceptsCreditCards': 'True', 'Restau...   \n",
       "\n",
       "                                            categories  \\\n",
       "2                                      Breweries, Food   \n",
       "28   Restaurants, Spanish, Peruvian, Colombian, Lat...   \n",
       "188  American (Traditional), Breakfast & Brunch, Fo...   \n",
       "189  Food Trucks, Wraps, Food, Street Vendors, Rest...   \n",
       "299  Event Planning & Services, Hotels & Travel, Ho...   \n",
       "\n",
       "                                                 hours  \n",
       "2    {'Monday': '16:0-22:0', 'Tuesday': '16:0-22:0'...  \n",
       "28   {'Monday': '11:0-22:0', 'Tuesday': '11:0-22:0'...  \n",
       "188  {'Monday': '11:0-21:0', 'Tuesday': '11:0-21:0'...  \n",
       "189  {'Monday': '0:0-0:0', 'Tuesday': '9:0-17:0', '...  \n",
       "299  {'Monday': '0:0-0:0', 'Tuesday': '0:0-0:0', 'W...  "
      ]
     },
     "execution_count": 79,
     "metadata": {},
     "output_type": "execute_result"
    }
   ],
   "source": [
    "df_nc.head()"
   ]
  },
  {
   "cell_type": "code",
   "execution_count": 80,
   "metadata": {},
   "outputs": [
    {
     "data": {
      "text/plain": [
       "(4084, 15)"
      ]
     },
     "execution_count": 80,
     "metadata": {},
     "output_type": "execute_result"
    }
   ],
   "source": [
    "df_nc.shape"
   ]
  },
  {
   "cell_type": "code",
   "execution_count": 82,
   "metadata": {},
   "outputs": [
    {
     "data": {
      "text/plain": [
       "array([35.437106  , 35.19985284, 35.1020312 , ..., 35.137223  ,\n",
       "       35.22095   , 35.4101165 ])"
      ]
     },
     "execution_count": 82,
     "metadata": {},
     "output_type": "execute_result"
    }
   ],
   "source": [
    "df_nc.latitude.unique()"
   ]
  },
  {
   "cell_type": "code",
   "execution_count": null,
   "metadata": {},
   "outputs": [],
   "source": [
    "# "
   ]
  },
  {
   "cell_type": "code",
   "execution_count": 13,
   "metadata": {},
   "outputs": [],
   "source": [
    "# tfidf stuff \n",
    "corpus=df_merge['all_reviews']\n",
    "vectorizer=sk_text.TfidfVectorizer(stop_words='english', max_features=5000, min_df=5)\n",
    "matrix=vectorizer.fit_transform(corpus)\n",
    "tfidf_data=matrix.toarray()"
   ]
  },
  {
   "cell_type": "code",
   "execution_count": 14,
   "metadata": {},
   "outputs": [],
   "source": [
    "# numpy array of all the tfidf values for each business \n",
    "tfidf_data=matrix.toarray()"
   ]
  },
  {
   "cell_type": "code",
   "execution_count": 15,
   "metadata": {},
   "outputs": [
    {
     "data": {
      "text/plain": [
       "(57644, 5000)"
      ]
     },
     "execution_count": 15,
     "metadata": {},
     "output_type": "execute_result"
    }
   ],
   "source": [
    "tfidf_data.shape"
   ]
  },
  {
   "cell_type": "code",
   "execution_count": null,
   "metadata": {},
   "outputs": [],
   "source": []
  },
  {
   "cell_type": "code",
   "execution_count": null,
   "metadata": {},
   "outputs": [],
   "source": []
  },
  {
   "cell_type": "code",
   "execution_count": null,
   "metadata": {},
   "outputs": [],
   "source": []
  },
  {
   "cell_type": "code",
   "execution_count": null,
   "metadata": {},
   "outputs": [],
   "source": []
  },
  {
   "cell_type": "code",
   "execution_count": null,
   "metadata": {},
   "outputs": [],
   "source": []
  },
  {
   "cell_type": "markdown",
   "metadata": {},
   "source": [
    "\n",
    "# ADD MORE FEATURES HERE\n",
    "# one feature could be review_count"
   ]
  },
  {
   "cell_type": "code",
   "execution_count": 89,
   "metadata": {},
   "outputs": [],
   "source": [
    "# train/test split\n",
    "# 9 is the location of the stars review in the dataframe\n",
    "x=tfidf_data\n",
    "y=df_merge.iloc[:,9].values\n",
    "x_train,x_test,y_train,y_test=train_test_split(x,y,test_size=.2,random_state=0)"
   ]
  },
  {
   "cell_type": "code",
   "execution_count": 90,
   "metadata": {},
   "outputs": [],
   "source": [
    "# adding a new column to x to get lower rmse\n",
    "# x2 = np.column_stack((x,np.array(df_merge['review_count'])))\n",
    "# x_train2, x_test2, y_train2, y_test2 = train_test_split(x2,y,test_size=.2,random_state=0)"
   ]
  },
  {
   "cell_type": "code",
   "execution_count": 91,
   "metadata": {},
   "outputs": [
    {
     "name": "stdout",
     "output_type": "stream",
     "text": [
      "(46115, 5000)\n",
      "(46115,)\n",
      "(11529, 5000)\n",
      "(11529,)\n"
     ]
    }
   ],
   "source": [
    "print(x_train.shape)\n",
    "print(y_train.shape)\n",
    "print(x_test.shape)\n",
    "print(y_test.shape)"
   ]
  },
  {
   "cell_type": "code",
   "execution_count": null,
   "metadata": {},
   "outputs": [],
   "source": []
  },
  {
   "cell_type": "code",
   "execution_count": 92,
   "metadata": {},
   "outputs": [
    {
     "name": "stdout",
     "output_type": "stream",
     "text": [
      "Train on 46115 samples, validate on 11529 samples\n",
      "Epoch 1/100\n",
      "46115/46115 - 9s - loss: 0.6181 - val_loss: 0.1519\n",
      "Epoch 2/100\n",
      "46115/46115 - 4s - loss: 0.1131 - val_loss: 0.1076\n",
      "Epoch 3/100\n",
      "46115/46115 - 4s - loss: 0.0855 - val_loss: 0.0918\n",
      "Epoch 4/100\n",
      "46115/46115 - 4s - loss: 0.0771 - val_loss: 0.0880\n",
      "Epoch 5/100\n",
      "46115/46115 - 4s - loss: 0.0725 - val_loss: 0.0907\n",
      "Epoch 6/100\n",
      "46115/46115 - 4s - loss: 0.0700 - val_loss: 0.0849\n",
      "Epoch 7/100\n",
      "46115/46115 - 4s - loss: 0.0677 - val_loss: 0.0857\n",
      "Epoch 8/100\n",
      "46115/46115 - 4s - loss: 0.0663 - val_loss: 0.0851\n",
      "Epoch 00008: early stopping\n"
     ]
    },
    {
     "data": {
      "text/plain": [
       "<tensorflow.python.keras.callbacks.History at 0x1c547fca90>"
      ]
     },
     "execution_count": 92,
     "metadata": {},
     "output_type": "execute_result"
    }
   ],
   "source": [
    "checkpointer=ModelCheckpoint(filepath='dnn/best_weights1.hdf5',verbose=0,save_best_only=True)\n",
    "model=Sequential()\n",
    "model.add(Dense(25, input_dim=x.shape[1],activation='relu'))\n",
    "model.add(Dense(1))\n",
    "model.compile(loss='mean_squared_error',optimizer='adam')\n",
    "monitor=EarlyStopping(monitor='val_loss',min_delta=1e-3,patience=2,verbose=2,mode='auto')\n",
    "\n",
    "model.fit(x_train,y_train,validation_data=(x_test,y_test),callbacks=[monitor,checkpointer],verbose=2,epochs=100)"
   ]
  },
  {
   "cell_type": "code",
   "execution_count": 93,
   "metadata": {},
   "outputs": [],
   "source": [
    "pred = model.predict(x_test)\n",
    "rmse = np.sqrt(metrics.mean_squared_error(y_test,pred))"
   ]
  },
  {
   "cell_type": "code",
   "execution_count": 94,
   "metadata": {},
   "outputs": [
    {
     "data": {
      "text/plain": [
       "0.2917069611945899"
      ]
     },
     "execution_count": 94,
     "metadata": {},
     "output_type": "execute_result"
    }
   ],
   "source": [
    "rmse"
   ]
  },
  {
   "cell_type": "code",
   "execution_count": 95,
   "metadata": {},
   "outputs": [],
   "source": [
    "# checkpointer = ModelCheckpoint(filepath=\"dnn/best_weights.hdf5\", verbose=0, save_best_only=True) # save best model\n",
    "\n",
    "# for i in range(5):\n",
    "#     print(i)\n",
    "\n",
    "#     checkpointer=ModelCheckpoint(filepath='dnn/best_weights1.hdf5',verbose=0,save_best_only=True)\n",
    "#     model=Sequential()\n",
    "#     model.add(Dense(25, input_dim=x.shape[1],activation='relu'))\n",
    "#     model.add(Dense(1))\n",
    "#     model.compile(loss='mean_squared_error',optimizer='adam')\n",
    "#     monitor=EarlyStopping(monitor='val_loss',min_delta=1e-3,patience=2,verbose=2,mode='auto')\n",
    "\n",
    "#     model.fit(x_train,y_train,validation_data=(x_test,y_test),callbacks=[monitor,checkpointer],verbose=2,epochs=100)\n",
    "# # model.load_weights('/dnn/best_weights.hdf5')"
   ]
  },
  {
   "cell_type": "code",
   "execution_count": 96,
   "metadata": {},
   "outputs": [],
   "source": [
    "pred=model.predict(x_test)"
   ]
  },
  {
   "cell_type": "code",
   "execution_count": 97,
   "metadata": {},
   "outputs": [],
   "source": [
    "rmse=np.sqrt(metrics.mean_squared_error(pred,y_test))"
   ]
  },
  {
   "cell_type": "code",
   "execution_count": null,
   "metadata": {},
   "outputs": [],
   "source": []
  },
  {
   "cell_type": "code",
   "execution_count": 98,
   "metadata": {},
   "outputs": [
    {
     "data": {
      "text/plain": [
       "0.2917069611945899"
      ]
     },
     "execution_count": 98,
     "metadata": {},
     "output_type": "execute_result"
    }
   ],
   "source": [
    "rmse"
   ]
  },
  {
   "cell_type": "code",
   "execution_count": 120,
   "metadata": {},
   "outputs": [
    {
     "data": {
      "image/png": "[encoded data removed]",
      "text/plain": [
       "<Figure size 1008x720 with 1 Axes>"
      ]
     },
     "metadata": {},
     "output_type": "display_data"
    }
   ],
   "source": [
    "def chart_regression(pred,y,sort=True):\n",
    "    plt.figure(figsize = (14,10))\n",
    "    t = pd.DataFrame({'pred' : pred, 'y' : y.flatten()})\n",
    "    if sort:\n",
    "        t.sort_values(by=['y'],inplace=True)\n",
    "    b = plt.plot(t['pred'].tolist(),label='prediction')\n",
    "    a = plt.plot(t['y'].tolist(),label='expected')\n",
    "\n",
    "    plt.ylabel('output')\n",
    "    plt.legend()\n",
    "    plt.show()\n",
    "    return t\n",
    "\n",
    "y_pred_y_test=chart_regression(pred.flatten(),y_test,sort=True)"
   ]
  },
  {
   "cell_type": "code",
   "execution_count": 100,
   "metadata": {},
   "outputs": [
    {
     "data": {
      "text/plain": [
       "0.86735105070182"
      ]
     },
     "execution_count": 100,
     "metadata": {},
     "output_type": "execute_result"
    }
   ],
   "source": [
    "from sklearn.metrics import r2_score\n",
    "from sklearn.metrics import mean_absolute_error\n",
    "r2 = r2_score(y_test,pred)\n",
    "r2"
   ]
  },
  {
   "cell_type": "code",
   "execution_count": 101,
   "metadata": {},
   "outputs": [
    {
     "data": {
      "text/plain": [
       "0.22814183364831436"
      ]
     },
     "execution_count": 101,
     "metadata": {},
     "output_type": "execute_result"
    }
   ],
   "source": [
    "mae = mean_absolute_error(y_test,pred)\n",
    "mae"
   ]
  },
  {
   "cell_type": "code",
   "execution_count": 121,
   "metadata": {},
   "outputs": [
    {
     "data": {
      "text/html": [
       "<div>\n",
       "<style scoped>\n",
       "    .dataframe tbody tr th:only-of-type {\n",
       "        vertical-align: middle;\n",
       "    }\n",
       "\n",
       "    .dataframe tbody tr th {\n",
       "        vertical-align: top;\n",
       "    }\n",
       "\n",
       "    .dataframe thead th {\n",
       "        text-align: right;\n",
       "    }\n",
       "</style>\n",
       "<table border=\"1\" class=\"dataframe\">\n",
       "  <thead>\n",
       "    <tr style=\"text-align: right;\">\n",
       "      <th></th>\n",
       "      <th>pred</th>\n",
       "      <th>y</th>\n",
       "    </tr>\n",
       "  </thead>\n",
       "  <tbody>\n",
       "    <tr>\n",
       "      <td>6149</td>\n",
       "      <td>1.162172</td>\n",
       "      <td>1.0</td>\n",
       "    </tr>\n",
       "    <tr>\n",
       "      <td>2462</td>\n",
       "      <td>1.483182</td>\n",
       "      <td>1.0</td>\n",
       "    </tr>\n",
       "    <tr>\n",
       "      <td>4356</td>\n",
       "      <td>1.647925</td>\n",
       "      <td>1.0</td>\n",
       "    </tr>\n",
       "    <tr>\n",
       "      <td>3351</td>\n",
       "      <td>1.457308</td>\n",
       "      <td>1.0</td>\n",
       "    </tr>\n",
       "    <tr>\n",
       "      <td>674</td>\n",
       "      <td>1.403912</td>\n",
       "      <td>1.0</td>\n",
       "    </tr>\n",
       "  </tbody>\n",
       "</table>\n",
       "</div>"
      ],
      "text/plain": [
       "          pred    y\n",
       "6149  1.162172  1.0\n",
       "2462  1.483182  1.0\n",
       "4356  1.647925  1.0\n",
       "3351  1.457308  1.0\n",
       "674   1.403912  1.0"
      ]
     },
     "execution_count": 121,
     "metadata": {},
     "output_type": "execute_result"
    }
   ],
   "source": [
    "y_pred_y_test.head()"
   ]
  },
  {
   "cell_type": "code",
   "execution_count": 122,
   "metadata": {},
   "outputs": [
    {
     "ename": "ValueError",
     "evalue": "Either both or neither of `x` and `y` must be specified (but try passing to `data`, which is more flexible).",
     "output_type": "error",
     "traceback": [
      "\u001b[0;31m---------------------------------------------------------------------------\u001b[0m",
      "\u001b[0;31mValueError\u001b[0m                                Traceback (most recent call last)",
      "\u001b[0;32m<ipython-input-122-c7a80b5e3e05>\u001b[0m in \u001b[0;36m<module>\u001b[0;34m\u001b[0m\n\u001b[1;32m      3\u001b[0m              \u001b[0mkde\u001b[0m \u001b[0;34m=\u001b[0m \u001b[0;32mFalse\u001b[0m\u001b[0;34m,\u001b[0m\u001b[0;34m\u001b[0m\u001b[0;34m\u001b[0m\u001b[0m\n\u001b[1;32m      4\u001b[0m              \u001b[0;31m# bins = 500, # can play with this\u001b[0m\u001b[0;34m\u001b[0m\u001b[0;34m\u001b[0m\u001b[0;34m\u001b[0m\u001b[0m\n\u001b[0;32m----> 5\u001b[0;31m              hist_kws = {\"edgecolor\" : 'none', \"alpha\" : 0.7 })\n\u001b[0m",
      "\u001b[0;32m~/opt/anaconda3/lib/python3.7/site-packages/seaborn/relational.py\u001b[0m in \u001b[0;36mlineplot\u001b[0;34m(x, y, hue, size, style, data, palette, hue_order, hue_norm, sizes, size_order, size_norm, dashes, markers, style_order, units, estimator, ci, n_boot, sort, err_style, err_kws, legend, ax, **kwargs)\u001b[0m\n\u001b[1;32m   1076\u001b[0m         \u001b[0mdashes\u001b[0m\u001b[0;34m=\u001b[0m\u001b[0mdashes\u001b[0m\u001b[0;34m,\u001b[0m \u001b[0mmarkers\u001b[0m\u001b[0;34m=\u001b[0m\u001b[0mmarkers\u001b[0m\u001b[0;34m,\u001b[0m \u001b[0mstyle_order\u001b[0m\u001b[0;34m=\u001b[0m\u001b[0mstyle_order\u001b[0m\u001b[0;34m,\u001b[0m\u001b[0;34m\u001b[0m\u001b[0;34m\u001b[0m\u001b[0m\n\u001b[1;32m   1077\u001b[0m         \u001b[0munits\u001b[0m\u001b[0;34m=\u001b[0m\u001b[0munits\u001b[0m\u001b[0;34m,\u001b[0m \u001b[0mestimator\u001b[0m\u001b[0;34m=\u001b[0m\u001b[0mestimator\u001b[0m\u001b[0;34m,\u001b[0m \u001b[0mci\u001b[0m\u001b[0;34m=\u001b[0m\u001b[0mci\u001b[0m\u001b[0;34m,\u001b[0m \u001b[0mn_boot\u001b[0m\u001b[0;34m=\u001b[0m\u001b[0mn_boot\u001b[0m\u001b[0;34m,\u001b[0m\u001b[0;34m\u001b[0m\u001b[0;34m\u001b[0m\u001b[0m\n\u001b[0;32m-> 1078\u001b[0;31m         \u001b[0msort\u001b[0m\u001b[0;34m=\u001b[0m\u001b[0msort\u001b[0m\u001b[0;34m,\u001b[0m \u001b[0merr_style\u001b[0m\u001b[0;34m=\u001b[0m\u001b[0merr_style\u001b[0m\u001b[0;34m,\u001b[0m \u001b[0merr_kws\u001b[0m\u001b[0;34m=\u001b[0m\u001b[0merr_kws\u001b[0m\u001b[0;34m,\u001b[0m \u001b[0mlegend\u001b[0m\u001b[0;34m=\u001b[0m\u001b[0mlegend\u001b[0m\u001b[0;34m,\u001b[0m\u001b[0;34m\u001b[0m\u001b[0;34m\u001b[0m\u001b[0m\n\u001b[0m\u001b[1;32m   1079\u001b[0m     )\n\u001b[1;32m   1080\u001b[0m \u001b[0;34m\u001b[0m\u001b[0m\n",
      "\u001b[0;32m~/opt/anaconda3/lib/python3.7/site-packages/seaborn/relational.py\u001b[0m in \u001b[0;36m__init__\u001b[0;34m(self, x, y, hue, size, style, data, palette, hue_order, hue_norm, sizes, size_order, size_norm, dashes, markers, style_order, units, estimator, ci, n_boot, sort, err_style, err_kws, legend)\u001b[0m\n\u001b[1;32m    661\u001b[0m \u001b[0;34m\u001b[0m\u001b[0m\n\u001b[1;32m    662\u001b[0m         plot_data = self.establish_variables(\n\u001b[0;32m--> 663\u001b[0;31m             \u001b[0mx\u001b[0m\u001b[0;34m,\u001b[0m \u001b[0my\u001b[0m\u001b[0;34m,\u001b[0m \u001b[0mhue\u001b[0m\u001b[0;34m,\u001b[0m \u001b[0msize\u001b[0m\u001b[0;34m,\u001b[0m \u001b[0mstyle\u001b[0m\u001b[0;34m,\u001b[0m \u001b[0munits\u001b[0m\u001b[0;34m,\u001b[0m \u001b[0mdata\u001b[0m\u001b[0;34m\u001b[0m\u001b[0;34m\u001b[0m\u001b[0m\n\u001b[0m\u001b[1;32m    664\u001b[0m         )\n\u001b[1;32m    665\u001b[0m \u001b[0;34m\u001b[0m\u001b[0m\n",
      "\u001b[0;32m~/opt/anaconda3/lib/python3.7/site-packages/seaborn/relational.py\u001b[0m in \u001b[0;36mestablish_variables\u001b[0;34m(self, x, y, hue, size, style, units, data)\u001b[0m\n\u001b[1;32m    164\u001b[0m             err = (\"Either both or neither of `x` and `y` must be specified \"\n\u001b[1;32m    165\u001b[0m                    \"(but try passing to `data`, which is more flexible).\")\n\u001b[0;32m--> 166\u001b[0;31m             \u001b[0;32mraise\u001b[0m \u001b[0mValueError\u001b[0m\u001b[0;34m(\u001b[0m\u001b[0merr\u001b[0m\u001b[0;34m)\u001b[0m\u001b[0;34m\u001b[0m\u001b[0;34m\u001b[0m\u001b[0m\n\u001b[0m\u001b[1;32m    167\u001b[0m \u001b[0;34m\u001b[0m\u001b[0m\n\u001b[1;32m    168\u001b[0m         \u001b[0;31m# ---- Post-processing\u001b[0m\u001b[0;34m\u001b[0m\u001b[0;34m\u001b[0m\u001b[0;34m\u001b[0m\u001b[0m\n",
      "\u001b[0;31mValueError\u001b[0m: Either both or neither of `x` and `y` must be specified (but try passing to `data`, which is more flexible)."
     ]
    }
   ],
   "source": []
  },
  {
   "cell_type": "code",
   "execution_count": null,
   "metadata": {},
   "outputs": [],
   "source": []
  },
  {
   "cell_type": "code",
   "execution_count": 112,
   "metadata": {},
   "outputs": [
    {
     "data": {
      "image/png": "[encoded data removed]",
      "text/plain": [
       "<Figure size 1008x720 with 1 Axes>"
      ]
     },
     "metadata": {
      "needs_background": "light"
     },
     "output_type": "display_data"
    }
   ],
   "source": [
    "import seaborn as sns\n",
    "plt.figure(figsize = (14,10))\n",
    "sns.set(palette = \"viridis\")\n",
    "sns.set_style(\"white\")\n",
    "sns.distplot(y_test,\n",
    "             label = \"test values\",\n",
    "             kde = False,\n",
    "             # bins = 500, # can play with this \n",
    "             hist_kws = {\"edgecolor\" : 'none', \"alpha\" : 0.7 })\n",
    "sns.distplot(pred,\n",
    "             label = \"pred values\",\n",
    "             kde = False,\n",
    "             # bins = 500, # can play with this \n",
    "             hist_kws = {\"edgecolor\" : 'none', \"alpha\" : 0.7 })\n",
    "plt.legend([\"Actual Values\", \"Predicted Values\"])\n",
    "plt.show()"
   ]
  },
  {
   "cell_type": "code",
   "execution_count": null,
   "metadata": {},
   "outputs": [],
   "source": [
    "df_merge.head()"
   ]
  },
  {
   "cell_type": "code",
   "execution_count": null,
   "metadata": {},
   "outputs": [],
   "source": [
    "austins_idea = df_merge[['all_reviews','review_count','stars']]"
   ]
  },
  {
   "cell_type": "code",
   "execution_count": null,
   "metadata": {},
   "outputs": [],
   "source": [
    "print(austins_idea)"
   ]
  },
  {
   "cell_type": "code",
   "execution_count": null,
   "metadata": {},
   "outputs": [],
   "source": [
    "def encode_text_dummy(df, name):\n",
    "    dummies = pd.get_dummies(df[name])\n",
    "    df = pd.DataFrame()\n",
    "    for x in dummies.columns:\n",
    "        dummy_name = \"{}-{}\".format(name, x)\n",
    "        df[dummy_name] = dummies[x]\n",
    "    # df.drop(name, axis=1, inplace=True)\n",
    "    return df"
   ]
  },
  {
   "cell_type": "code",
   "execution_count": null,
   "metadata": {},
   "outputs": [],
   "source": [
    "encoded_results = encode_text_dummy(austins_idea,'stars')"
   ]
  },
  {
   "cell_type": "code",
   "execution_count": null,
   "metadata": {},
   "outputs": [],
   "source": [
    "encoded_results"
   ]
  },
  {
   "cell_type": "code",
   "execution_count": null,
   "metadata": {},
   "outputs": [],
   "source": [
    "# this is the y data \n",
    "encoded_results_np = encoded_results.to_numpy()"
   ]
  },
  {
   "cell_type": "code",
   "execution_count": null,
   "metadata": {},
   "outputs": [],
   "source": [
    "# this is the x data \n",
    "tfidf_data"
   ]
  },
  {
   "cell_type": "code",
   "execution_count": null,
   "metadata": {},
   "outputs": [],
   "source": [
    "# x_cl is for x classification\n",
    "# y_cl is for y classification\n",
    "x_cl = tfidf_data\n",
    "y_cl = encoded_results_np"
   ]
  },
  {
   "cell_type": "code",
   "execution_count": null,
   "metadata": {},
   "outputs": [],
   "source": [
    "print(x_cl.shape)\n",
    "print(y_cl.shape)"
   ]
  },
  {
   "cell_type": "code",
   "execution_count": null,
   "metadata": {},
   "outputs": [],
   "source": [
    "x_cl_train, x_cl_test, y_cl_train, y_cl_test = train_test_split(x_cl,y_cl,test_size=.2,random_state=0)"
   ]
  },
  {
   "cell_type": "code",
   "execution_count": null,
   "metadata": {},
   "outputs": [],
   "source": [
    "print(x_cl_train.shape)\n",
    "print(y_cl_train.shape)\n",
    "print(x_cl_test.shape)\n",
    "print(y_cl_test.shape)"
   ]
  },
  {
   "cell_type": "code",
   "execution_count": null,
   "metadata": {},
   "outputs": [],
   "source": [
    "model2 = Sequential()\n",
    "model2.add(Dense(10,input_dim=x_cl.shape[1],activation='relu'))\n",
    "model2.add(Dense(y_cl.shape[1],activation='softmax'))\n",
    "model2.compile(loss='categorical_crossentropy',optimizer='adam')"
   ]
  },
  {
   "cell_type": "code",
   "execution_count": null,
   "metadata": {},
   "outputs": [],
   "source": [
    "model2.fit(x_cl,y_cl,verbose=2,epochs=10)"
   ]
  },
  {
   "cell_type": "code",
   "execution_count": null,
   "metadata": {},
   "outputs": [],
   "source": [
    "y_pred2 = model2.predict(x_cl_test)"
   ]
  },
  {
   "cell_type": "code",
   "execution_count": null,
   "metadata": {},
   "outputs": [],
   "source": [
    "rmse2 = np.sqrt(metrics.mean_squared_error(y_pred,y_cl_test))\n",
    "print(rmse2)"
   ]
  },
  {
   "cell_type": "code",
   "execution_count": null,
   "metadata": {},
   "outputs": [],
   "source": [
    "r2_cl = r2_score(y_test,pred)\n",
    "r2_cl"
   ]
  },
  {
   "cell_type": "code",
   "execution_count": null,
   "metadata": {},
   "outputs": [],
   "source": []
  },
  {
   "cell_type": "code",
   "execution_count": null,
   "metadata": {},
   "outputs": [],
   "source": []
  }
 ],
 "metadata": {
  "kernelspec": {
   "display_name": "Python 3",
   "language": "python",
   "name": "python3"
  },
  "language_info": {
   "codemirror_mode": {
    "name": "ipython",
    "version": 3
   },
   "file_extension": ".py",
   "mimetype": "text/x-python",
   "name": "python",
   "nbconvert_exporter": "python",
   "pygments_lexer": "ipython3",
   "version": "3.7.4"
  }
 },
 "nbformat": 4,
 "nbformat_minor": 2
}
